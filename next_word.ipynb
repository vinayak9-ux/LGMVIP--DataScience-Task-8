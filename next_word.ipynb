{
 "cells": [
  {
   "cell_type": "markdown",
   "id": "80168f2d",
   "metadata": {},
   "source": [
    "### LGM VIRTUAL INTERNSHIP PROGRAM \n",
    "### DATA SCIENCE \n",
    "### ADVANCE LEVEL TASK 2 :Next Word Prediction"
   ]
  },
  {
   "cell_type": "code",
   "execution_count": 1,
   "id": "a4f0964e",
   "metadata": {},
   "outputs": [],
   "source": [
    "#importing libraries\n",
    "import pandas as pd\n",
    "import numpy as np\n",
    "from gensim.models import Word2Vec\n",
    "import tensorflow as tf\n",
    "from tensorflow.keras import Sequential\n",
    "from tensorflow.keras.layers import LSTM,Dense,Embedding,Bidirectional,BatchNormalization,Dropout\n",
    "from keras.preprocessing.text import Tokenizer,text_to_word_sequence\n",
    "from keras.utils import pad_sequences,to_categorical\n",
    "import re\n",
    "from bs4 import BeautifulSoup \n",
    "import os"
   ]
  },
  {
   "cell_type": "code",
   "execution_count": 2,
   "id": "b58f3e2e",
   "metadata": {},
   "outputs": [],
   "source": [
    "#finding the input files\n",
    "file_name=[i for i in os.listdir() if i.endswith('.txt')][0]"
   ]
  },
  {
   "cell_type": "code",
   "execution_count": 3,
   "id": "65c6d881",
   "metadata": {},
   "outputs": [],
   "source": [
    "#reading the text \n",
    "text_string=\" \"\n",
    "with open(file_name,'r+',encoding='utf-8') as f:\n",
    "    text_string+=f.read()"
   ]
  },
  {
   "cell_type": "code",
   "execution_count": 4,
   "id": "32d05482",
   "metadata": {},
   "outputs": [],
   "source": [
    "#data cleaning \n",
    "text=[re.sub(\"[^a-zA-Z]\",\" \",i).lower().replace(\"  \",\" \") for i in text_string.split('.')]"
   ]
  },
  {
   "cell_type": "markdown",
   "id": "1fafbdf1",
   "metadata": {},
   "source": [
    "Tokenization is a necessary first step in many natural language processing tasks, such as word counting, parsing, spell checking, corpus generation, and statistical analysis of text.\n",
    "\n",
    "Tokenizer is a compact pure-Python (>= 3.8) executable program and module for tokenizing Icelandic text. It converts input text to streams of tokens, where each token is a separate word, punctuation sign, number/amount, date, e-mail, URL/URI, etc"
   ]
  },
  {
   "cell_type": "code",
   "execution_count": 5,
   "id": "99133f0b",
   "metadata": {},
   "outputs": [],
   "source": [
    "token=Tokenizer()"
   ]
  },
  {
   "cell_type": "code",
   "execution_count": 6,
   "id": "fbf42191",
   "metadata": {},
   "outputs": [],
   "source": [
    "token.fit_on_texts(text)"
   ]
  },
  {
   "cell_type": "code",
   "execution_count": 7,
   "id": "258bc1df",
   "metadata": {},
   "outputs": [
    {
     "data": {
      "text/plain": [
       "8082"
      ]
     },
     "execution_count": 7,
     "metadata": {},
     "output_type": "execute_result"
    }
   ],
   "source": [
    "len(token.index_word)"
   ]
  },
  {
   "cell_type": "code",
   "execution_count": 8,
   "id": "e9358945",
   "metadata": {},
   "outputs": [
    {
     "data": {
      "text/plain": [
       "6434"
      ]
     },
     "execution_count": 8,
     "metadata": {},
     "output_type": "execute_result"
    }
   ],
   "source": [
    "seq=token.texts_to_sequences(text)\n",
    "len(seq)"
   ]
  },
  {
   "cell_type": "markdown",
   "id": "956ef467",
   "metadata": {},
   "source": [
    "### Creating the dataset using the corpus\n",
    "\n",
    "#### ex: This is a demo text\n",
    "\n",
    "#### input                | target\n",
    "#### this                   | is\n",
    "#### this is               | a\n",
    "#### this is a            |  demo\n",
    "#### this is a demo  | text"
   ]
  },
  {
   "cell_type": "code",
   "execution_count": 9,
   "id": "80ba0872",
   "metadata": {},
   "outputs": [],
   "source": [
    "input_seq=[]\n",
    "for i in text:\n",
    "    token_sentence=token.texts_to_sequences([i])[0]\n",
    "    for i in range(1,len(token_sentence)):\n",
    "        input_seq.append(token_sentence[:i+1])"
   ]
  },
  {
   "cell_type": "code",
   "execution_count": 10,
   "id": "0a0c5850",
   "metadata": {},
   "outputs": [
    {
     "data": {
      "text/plain": [
       "102628"
      ]
     },
     "execution_count": 10,
     "metadata": {},
     "output_type": "execute_result"
    }
   ],
   "source": [
    "#dataset length\n",
    "len(input_seq)"
   ]
  },
  {
   "cell_type": "code",
   "execution_count": 11,
   "id": "6f072404",
   "metadata": {},
   "outputs": [
    {
     "data": {
      "text/plain": [
       "105"
      ]
     },
     "execution_count": 11,
     "metadata": {},
     "output_type": "execute_result"
    }
   ],
   "source": [
    "#finding the max len for a given input \n",
    "max_len=max([ len(i) for i in input_seq])\n",
    "max_len"
   ]
  },
  {
   "cell_type": "code",
   "execution_count": 12,
   "id": "102ea6b9",
   "metadata": {},
   "outputs": [],
   "source": [
    "#padding the input to make every sample of equal length\n",
    "pad_seq=pad_sequences(input_seq,maxlen=max_len,padding='pre')"
   ]
  },
  {
   "cell_type": "code",
   "execution_count": 13,
   "id": "844488e4",
   "metadata": {},
   "outputs": [
    {
     "data": {
      "text/plain": [
       "(102628,\n",
       " array([[   0,    0,    0, ...,    0,  143,  129],\n",
       "        [   0,    0,    0, ...,  143,  129,   42],\n",
       "        [   0,    0,    0, ...,  129,   42,    1],\n",
       "        ...,\n",
       "        [   0,    0,    0, ...,    4,  354,   80],\n",
       "        [   0,    0,    0, ...,  354,   80,  352],\n",
       "        [   0,    0,    0, ...,   80,  352, 1601]]))"
      ]
     },
     "execution_count": 13,
     "metadata": {},
     "output_type": "execute_result"
    }
   ],
   "source": [
    "len(pad_seq),pad_seq"
   ]
  },
  {
   "cell_type": "code",
   "execution_count": 14,
   "id": "9eb17533",
   "metadata": {},
   "outputs": [],
   "source": [
    "#separating target and features\n",
    "X=pad_seq[:,:-1]\n",
    "Y=pad_seq[:,-1]"
   ]
  },
  {
   "cell_type": "code",
   "execution_count": 15,
   "id": "efdab3d0",
   "metadata": {},
   "outputs": [
    {
     "data": {
      "text/plain": [
       "129"
      ]
     },
     "execution_count": 15,
     "metadata": {},
     "output_type": "execute_result"
    }
   ],
   "source": [
    "Y[0]"
   ]
  },
  {
   "cell_type": "code",
   "execution_count": 16,
   "id": "a3a6206e",
   "metadata": {},
   "outputs": [],
   "source": [
    "Y=to_categorical(Y)"
   ]
  },
  {
   "cell_type": "code",
   "execution_count": 17,
   "id": "604e861f",
   "metadata": {},
   "outputs": [
    {
     "data": {
      "text/plain": [
       "(array([0., 0., 0., ..., 0., 0., 0.], dtype=float32), 129)"
      ]
     },
     "execution_count": 17,
     "metadata": {},
     "output_type": "execute_result"
    }
   ],
   "source": [
    "Y[0],np.argmax(Y[0])"
   ]
  },
  {
   "cell_type": "code",
   "execution_count": 18,
   "id": "3c6ac44b",
   "metadata": {},
   "outputs": [
    {
     "data": {
      "text/plain": [
       "(102628, 8083)"
      ]
     },
     "execution_count": 18,
     "metadata": {},
     "output_type": "execute_result"
    }
   ],
   "source": [
    "Y.shape"
   ]
  },
  {
   "cell_type": "markdown",
   "id": "50104069",
   "metadata": {},
   "source": [
    "### Word2Vec creates vectors of the words that are distributed numerical representations of word features – these word features could comprise of words that represent the context of the individual words present in our vocabulary.\n",
    "\n",
    "Word embeddings eventually help in establishing the association of a word with another similar meaning word through the created vectors.\n",
    "\n",
    "Basically Word2Vec transforms words into vectors and the values assigned to each vectors is calculated using the context. \n",
    "\n",
    "#### Example: This is a sample\n",
    "\n",
    "#### this-->[0.4,2.2,0.3,2.2]  is--> [0.2,2.1,2.2,2.3]  a--> [0.4,2.2,0.1,4.2]  sample-->[0.4,2.2,5.0,1.2]\n"
   ]
  },
  {
   "cell_type": "code",
   "execution_count": 31,
   "id": "fb12b6ad",
   "metadata": {},
   "outputs": [],
   "source": [
    "sentences=[i.split() for i in text]\n",
    "model_word=Word2Vec(sentences=sentences,window=10,min_count=2,vector_size=300)\n",
    "model_word.train(sentences,total_examples=model_word.corpus_count,epochs=model_word.epochs+100)\n",
    "\n",
    "word_dict={}\n",
    "for word in model_word.wv.index_to_key:\n",
    "    word_dict[word]= model_word.wv.get_vector(word)\n",
    "\n",
    "emb_matrix=np.zeros((8083,300))\n",
    "\n",
    "for word,index in token.word_index.items():\n",
    "    emb_vector=word_dict.get(word)\n",
    "    if emb_vector is not None:\n",
    "        emb_matrix[index]=emb_vector"
   ]
  },
  {
   "cell_type": "code",
   "execution_count": 32,
   "id": "e3c2ee54",
   "metadata": {},
   "outputs": [
    {
     "data": {
      "text/plain": [
       "[('committed', 0.5659366250038147),\n",
       " ('unique', 0.4662627875804901),\n",
       " ('nature', 0.4382766783237457),\n",
       " ('charm', 0.43705448508262634),\n",
       " ('reward', 0.4160635769367218),\n",
       " ('bizarre', 0.41171836853027344),\n",
       " ('legal', 0.41091188788414),\n",
       " ('literature', 0.40374037623405457),\n",
       " ('reasoner', 0.3944343626499176),\n",
       " ('sensational', 0.39289799332618713)]"
      ]
     },
     "execution_count": 32,
     "metadata": {},
     "output_type": "execute_result"
    }
   ],
   "source": [
    "model_word.wv.most_similar('crime')"
   ]
  },
  {
   "cell_type": "code",
   "execution_count": 44,
   "id": "51ec3f2a",
   "metadata": {},
   "outputs": [
    {
     "data": {
      "text/plain": [
       "[('homely', 0.37771669030189514),\n",
       " ('bakers', 0.33959320187568665),\n",
       " ('suggestive', 0.33076027035713196),\n",
       " ('quest', 0.3159787952899933),\n",
       " ('grounds', 0.3155442476272583),\n",
       " ('compared', 0.3085801303386688),\n",
       " ('loop', 0.2920632064342499),\n",
       " ('investigation', 0.2888488173484802),\n",
       " ('fire', 0.27340424060821533),\n",
       " ('absolute', 0.2708062529563904)]"
      ]
     },
     "execution_count": 44,
     "metadata": {},
     "output_type": "execute_result"
    }
   ],
   "source": [
    "model_word.wv.most_similar('mystery')"
   ]
  },
  {
   "cell_type": "markdown",
   "id": "53544a6b",
   "metadata": {},
   "source": [
    "### Visualzing Word Embedding"
   ]
  },
  {
   "cell_type": "code",
   "execution_count": 21,
   "id": "35f5388a",
   "metadata": {},
   "outputs": [],
   "source": [
    "#compressing the vectors into a 3-d matrix using PCA\n",
    "from sklearn.decomposition import PCA"
   ]
  },
  {
   "cell_type": "code",
   "execution_count": 45,
   "id": "b1d75b9d",
   "metadata": {},
   "outputs": [],
   "source": [
    "pca=PCA(n_components=3)"
   ]
  },
  {
   "cell_type": "code",
   "execution_count": 54,
   "id": "d3e7d09a",
   "metadata": {},
   "outputs": [],
   "source": [
    "X = pca.fit_transform(model_word.wv.get_normed_vectors())"
   ]
  },
  {
   "cell_type": "code",
   "execution_count": 50,
   "id": "9d1394cf",
   "metadata": {},
   "outputs": [],
   "source": [
    "import plotly.express as px"
   ]
  },
  {
   "cell_type": "code",
   "execution_count": 75,
   "id": "b8e3ffad",
   "metadata": {},
   "outputs": [
    {
     "data": {
      "application/vnd.plotly.v1+json": {
       "config": {
        "plotlyServerURL": "https://plot.ly"
       },
       "data": [
        {
         "hovertemplate": "color=colonel<br>0=%{x}<br>1=%{y}<br>2=%{z}<extra></extra>",
         "legendgroup": "colonel",
         "marker": {
          "color": "#636efa",
          "symbol": "circle"
         },
         "mode": "markers",
         "name": "colonel",
         "scene": "scene",
         "showlegend": true,
         "type": "scatter3d",
         "x": [
          0.16065526008605957
         ],
         "y": [
          -0.19299094378948212
         ],
         "z": [
          0.10968299955129623
         ]
        },
        {
         "hovertemplate": "color=things<br>0=%{x}<br>1=%{y}<br>2=%{z}<extra></extra>",
         "legendgroup": "things",
         "marker": {
          "color": "#EF553B",
          "symbol": "circle"
         },
         "mode": "markers",
         "name": "things",
         "scene": "scene",
         "showlegend": true,
         "type": "scatter3d",
         "x": [
          -0.2568925619125366
         ],
         "y": [
          0.14523690938949585
         ],
         "z": [
          0.05192435532808304
         ]
        },
        {
         "hovertemplate": "color=imagine<br>0=%{x}<br>1=%{y}<br>2=%{z}<extra></extra>",
         "legendgroup": "imagine",
         "marker": {
          "color": "#00cc96",
          "symbol": "circle"
         },
         "mode": "markers",
         "name": "imagine",
         "scene": "scene",
         "showlegend": true,
         "type": "scatter3d",
         "x": [
          -0.27674853801727295
         ],
         "y": [
          -0.24292245507240295
         ],
         "z": [
          -0.086773581802845
         ]
        },
        {
         "hovertemplate": "color=floor<br>0=%{x}<br>1=%{y}<br>2=%{z}<extra></extra>",
         "legendgroup": "floor",
         "marker": {
          "color": "#ab63fa",
          "symbol": "circle"
         },
         "mode": "markers",
         "name": "floor",
         "scene": "scene",
         "showlegend": true,
         "type": "scatter3d",
         "x": [
          0.27938634157180786
         ],
         "y": [
          0.10134457796812057
         ],
         "z": [
          0.23004184663295746
         ]
        },
        {
         "hovertemplate": "color=inspector<br>0=%{x}<br>1=%{y}<br>2=%{z}<extra></extra>",
         "legendgroup": "inspector",
         "marker": {
          "color": "#FFA15A",
          "symbol": "circle"
         },
         "mode": "markers",
         "name": "inspector",
         "scene": "scene",
         "showlegend": true,
         "type": "scatter3d",
         "x": [
          -0.13714388012886047
         ],
         "y": [
          -0.02157977968454361
         ],
         "z": [
          -0.008133628405630589
         ]
        },
        {
         "hovertemplate": "color=past<br>0=%{x}<br>1=%{y}<br>2=%{z}<extra></extra>",
         "legendgroup": "past",
         "marker": {
          "color": "#19d3f3",
          "symbol": "circle"
         },
         "mode": "markers",
         "name": "past",
         "scene": "scene",
         "showlegend": true,
         "type": "scatter3d",
         "x": [
          -0.007624513003975153
         ],
         "y": [
          -0.2268034666776657
         ],
         "z": [
          0.20756268501281738
         ]
        },
        {
         "hovertemplate": "color=rooms<br>0=%{x}<br>1=%{y}<br>2=%{z}<extra></extra>",
         "legendgroup": "rooms",
         "marker": {
          "color": "#FF6692",
          "symbol": "circle"
         },
         "mode": "markers",
         "name": "rooms",
         "scene": "scene",
         "showlegend": true,
         "type": "scatter3d",
         "x": [
          -0.0255520511418581
         ],
         "y": [
          -0.05061964690685272
         ],
         "z": [
          0.260630339384079
         ]
        },
        {
         "hovertemplate": "color=coming<br>0=%{x}<br>1=%{y}<br>2=%{z}<extra></extra>",
         "legendgroup": "coming",
         "marker": {
          "color": "#B6E880",
          "symbol": "circle"
         },
         "mode": "markers",
         "name": "coming",
         "scene": "scene",
         "showlegend": true,
         "type": "scatter3d",
         "x": [
          0.0827907919883728
         ],
         "y": [
          -0.33765652775764465
         ],
         "z": [
          0.3019796311855316
         ]
        },
        {
         "hovertemplate": "color=taken<br>0=%{x}<br>1=%{y}<br>2=%{z}<extra></extra>",
         "legendgroup": "taken",
         "marker": {
          "color": "#FF97FF",
          "symbol": "circle"
         },
         "mode": "markers",
         "name": "taken",
         "scene": "scene",
         "showlegend": true,
         "type": "scatter3d",
         "x": [
          -0.07847670465707779
         ],
         "y": [
          -0.1087758019566536
         ],
         "z": [
          0.16898870468139648
         ]
        },
        {
         "hovertemplate": "color=office<br>0=%{x}<br>1=%{y}<br>2=%{z}<extra></extra>",
         "legendgroup": "office",
         "marker": {
          "color": "#FECB52",
          "symbol": "circle"
         },
         "mode": "markers",
         "name": "office",
         "scene": "scene",
         "showlegend": true,
         "type": "scatter3d",
         "x": [
          -0.09135255962610245
         ],
         "y": [
          -0.06610124558210373
         ],
         "z": [
          0.4759218990802765
         ]
        },
        {
         "hovertemplate": "color=ago<br>0=%{x}<br>1=%{y}<br>2=%{z}<extra></extra>",
         "legendgroup": "ago",
         "marker": {
          "color": "#636efa",
          "symbol": "circle"
         },
         "mode": "markers",
         "name": "ago",
         "scene": "scene",
         "showlegend": true,
         "type": "scatter3d",
         "x": [
          -0.2504393458366394
         ],
         "y": [
          -0.07996219396591187
         ],
         "z": [
          0.2651471793651581
         ]
        },
        {
         "hovertemplate": "color=husband<br>0=%{x}<br>1=%{y}<br>2=%{z}<extra></extra>",
         "legendgroup": "husband",
         "marker": {
          "color": "#EF553B",
          "symbol": "circle"
         },
         "mode": "markers",
         "name": "husband",
         "scene": "scene",
         "showlegend": true,
         "type": "scatter3d",
         "x": [
          -0.19907425343990326
         ],
         "y": [
          -0.3251365125179291
         ],
         "z": [
          0.03866114467382431
         ]
        },
        {
         "hovertemplate": "color=lost<br>0=%{x}<br>1=%{y}<br>2=%{z}<extra></extra>",
         "legendgroup": "lost",
         "marker": {
          "color": "#00cc96",
          "symbol": "circle"
         },
         "mode": "markers",
         "name": "lost",
         "scene": "scene",
         "showlegend": true,
         "type": "scatter3d",
         "x": [
          -0.29125478863716125
         ],
         "y": [
          0.04369860887527466
         ],
         "z": [
          -0.1835075169801712
         ]
        },
        {
         "hovertemplate": "color=want<br>0=%{x}<br>1=%{y}<br>2=%{z}<extra></extra>",
         "legendgroup": "want",
         "marker": {
          "color": "#ab63fa",
          "symbol": "circle"
         },
         "mode": "markers",
         "name": "want",
         "scene": "scene",
         "showlegend": true,
         "type": "scatter3d",
         "x": [
          -0.3481118381023407
         ],
         "y": [
          -0.15224866569042206
         ],
         "z": [
          -0.0023421691730618477
         ]
        },
        {
         "hovertemplate": "color=manner<br>0=%{x}<br>1=%{y}<br>2=%{z}<extra></extra>",
         "legendgroup": "manner",
         "marker": {
          "color": "#FFA15A",
          "symbol": "circle"
         },
         "mode": "markers",
         "name": "manner",
         "scene": "scene",
         "showlegend": true,
         "type": "scatter3d",
         "x": [
          -0.13692468404769897
         ],
         "y": [
          0.15252900123596191
         ],
         "z": [
          -0.46726980805397034
         ]
        },
        {
         "hovertemplate": "color=late<br>0=%{x}<br>1=%{y}<br>2=%{z}<extra></extra>",
         "legendgroup": "late",
         "marker": {
          "color": "#19d3f3",
          "symbol": "circle"
         },
         "mode": "markers",
         "name": "late",
         "scene": "scene",
         "showlegend": true,
         "type": "scatter3d",
         "x": [
          -0.2613295018672943
         ],
         "y": [
          -0.168350487947464
         ],
         "z": [
          -0.013555523008108139
         ]
        },
        {
         "hovertemplate": "color=e<br>0=%{x}<br>1=%{y}<br>2=%{z}<extra></extra>",
         "legendgroup": "e",
         "marker": {
          "color": "#FF6692",
          "symbol": "circle"
         },
         "mode": "markers",
         "name": "e",
         "scene": "scene",
         "showlegend": true,
         "type": "scatter3d",
         "x": [
          -0.14721286296844482
         ],
         "y": [
          0.2236556112766266
         ],
         "z": [
          0.08846645057201385
         ]
        },
        {
         "hovertemplate": "color=lamp<br>0=%{x}<br>1=%{y}<br>2=%{z}<extra></extra>",
         "legendgroup": "lamp",
         "marker": {
          "color": "#B6E880",
          "symbol": "circle"
         },
         "mode": "markers",
         "name": "lamp",
         "scene": "scene",
         "showlegend": true,
         "type": "scatter3d",
         "x": [
          0.41956421732902527
         ],
         "y": [
          -0.19699376821517944
         ],
         "z": [
          0.10598576813936234
         ]
        },
        {
         "hovertemplate": "color=feet<br>0=%{x}<br>1=%{y}<br>2=%{z}<extra></extra>",
         "legendgroup": "feet",
         "marker": {
          "color": "#FF97FF",
          "symbol": "circle"
         },
         "mode": "markers",
         "name": "feet",
         "scene": "scene",
         "showlegend": true,
         "type": "scatter3d",
         "x": [
          0.4164261221885681
         ],
         "y": [
          -0.16872480511665344
         ],
         "z": [
          0.17395588755607605
         ]
        },
        {
         "hovertemplate": "color=coronet<br>0=%{x}<br>1=%{y}<br>2=%{z}<extra></extra>",
         "legendgroup": "coronet",
         "marker": {
          "color": "#FECB52",
          "symbol": "circle"
         },
         "mode": "markers",
         "name": "coronet",
         "scene": "scene",
         "showlegend": true,
         "type": "scatter3d",
         "x": [
          0.0281496774405241
         ],
         "y": [
          -0.2780074179172516
         ],
         "z": [
          0.016577795147895813
         ]
        },
        {
         "hovertemplate": "color=fear<br>0=%{x}<br>1=%{y}<br>2=%{z}<extra></extra>",
         "legendgroup": "fear",
         "marker": {
          "color": "#636efa",
          "symbol": "circle"
         },
         "mode": "markers",
         "name": "fear",
         "scene": "scene",
         "showlegend": true,
         "type": "scatter3d",
         "x": [
          -0.18848061561584473
         ],
         "y": [
          -0.18047674000263214
         ],
         "z": [
          -0.10529909282922745
         ]
        },
        {
         "hovertemplate": "color=cry<br>0=%{x}<br>1=%{y}<br>2=%{z}<extra></extra>",
         "legendgroup": "cry",
         "marker": {
          "color": "#EF553B",
          "symbol": "circle"
         },
         "mode": "markers",
         "name": "cry",
         "scene": "scene",
         "showlegend": true,
         "type": "scatter3d",
         "x": [
          0.16337648034095764
         ],
         "y": [
          -0.23244071006774902
         ],
         "z": [
          0.17574664950370789
         ]
        },
        {
         "hovertemplate": "color=station<br>0=%{x}<br>1=%{y}<br>2=%{z}<extra></extra>",
         "legendgroup": "station",
         "marker": {
          "color": "#00cc96",
          "symbol": "circle"
         },
         "mode": "markers",
         "name": "station",
         "scene": "scene",
         "showlegend": true,
         "type": "scatter3d",
         "x": [
          0.13337533175945282
         ],
         "y": [
          -0.10889384150505066
         ],
         "z": [
          0.43068864941596985
         ]
        },
        {
         "hovertemplate": "color=people<br>0=%{x}<br>1=%{y}<br>2=%{z}<extra></extra>",
         "legendgroup": "people",
         "marker": {
          "color": "#ab63fa",
          "symbol": "circle"
         },
         "mode": "markers",
         "name": "people",
         "scene": "scene",
         "showlegend": true,
         "type": "scatter3d",
         "x": [
          -0.15377534925937653
         ],
         "y": [
          0.18612520396709442
         ],
         "z": [
          0.1231062114238739
         ]
        },
        {
         "hovertemplate": "color=walked<br>0=%{x}<br>1=%{y}<br>2=%{z}<extra></extra>",
         "legendgroup": "walked",
         "marker": {
          "color": "#FFA15A",
          "symbol": "circle"
         },
         "mode": "markers",
         "name": "walked",
         "scene": "scene",
         "showlegend": true,
         "type": "scatter3d",
         "x": [
          0.41209712624549866
         ],
         "y": [
          -0.3258778750896454
         ],
         "z": [
          0.291094571352005
         ]
        },
        {
         "hovertemplate": "color=seems<br>0=%{x}<br>1=%{y}<br>2=%{z}<extra></extra>",
         "legendgroup": "seems",
         "marker": {
          "color": "#19d3f3",
          "symbol": "circle"
         },
         "mode": "markers",
         "name": "seems",
         "scene": "scene",
         "showlegend": true,
         "type": "scatter3d",
         "x": [
          -0.21541471779346466
         ],
         "y": [
          -0.11087081581354141
         ],
         "z": [
          -0.23600122332572937
         ]
        },
        {
         "hovertemplate": "color=address<br>0=%{x}<br>1=%{y}<br>2=%{z}<extra></extra>",
         "legendgroup": "address",
         "marker": {
          "color": "#FF6692",
          "symbol": "circle"
         },
         "mode": "markers",
         "name": "address",
         "scene": "scene",
         "showlegend": true,
         "type": "scatter3d",
         "x": [
          -0.3296119272708893
         ],
         "y": [
          -0.08985934406518936
         ],
         "z": [
          0.19378438591957092
         ]
        },
        {
         "hovertemplate": "color=absolutely<br>0=%{x}<br>1=%{y}<br>2=%{z}<extra></extra>",
         "legendgroup": "absolutely",
         "marker": {
          "color": "#B6E880",
          "symbol": "circle"
         },
         "mode": "markers",
         "name": "absolutely",
         "scene": "scene",
         "showlegend": true,
         "type": "scatter3d",
         "x": [
          -0.430978387594223
         ],
         "y": [
          0.05043131858110428
         ],
         "z": [
          -0.13720285892486572
         ]
        },
        {
         "hovertemplate": "color=holder<br>0=%{x}<br>1=%{y}<br>2=%{z}<extra></extra>",
         "legendgroup": "holder",
         "marker": {
          "color": "#FF97FF",
          "symbol": "circle"
         },
         "mode": "markers",
         "name": "holder",
         "scene": "scene",
         "showlegend": true,
         "type": "scatter3d",
         "x": [
          -0.15880955755710602
         ],
         "y": [
          0.27020981907844543
         ],
         "z": [
          0.19104114174842834
         ]
        },
        {
         "hovertemplate": "color=second<br>0=%{x}<br>1=%{y}<br>2=%{z}<extra></extra>",
         "legendgroup": "second",
         "marker": {
          "color": "#FECB52",
          "symbol": "circle"
         },
         "mode": "markers",
         "name": "second",
         "scene": "scene",
         "showlegend": true,
         "type": "scatter3d",
         "x": [
          -0.0324796587228775
         ],
         "y": [
          -0.001993668731302023
         ],
         "z": [
          0.23035243153572083
         ]
        },
        {
         "hovertemplate": "color=present<br>0=%{x}<br>1=%{y}<br>2=%{z}<extra></extra>",
         "legendgroup": "present",
         "marker": {
          "color": "#636efa",
          "symbol": "circle"
         },
         "mode": "markers",
         "name": "present",
         "scene": "scene",
         "showlegend": true,
         "type": "scatter3d",
         "x": [
          -0.30427655577659607
         ],
         "y": [
          0.20106716454029083
         ],
         "z": [
          0.0830620527267456
         ]
        },
        {
         "hovertemplate": "color=letters<br>0=%{x}<br>1=%{y}<br>2=%{z}<extra></extra>",
         "legendgroup": "letters",
         "marker": {
          "color": "#EF553B",
          "symbol": "circle"
         },
         "mode": "markers",
         "name": "letters",
         "scene": "scene",
         "showlegend": true,
         "type": "scatter3d",
         "x": [
          -0.16063430905342102
         ],
         "y": [
          -0.0076902941800653934
         ],
         "z": [
          0.1069217175245285
         ]
        },
        {
         "hovertemplate": "color=outside<br>0=%{x}<br>1=%{y}<br>2=%{z}<extra></extra>",
         "legendgroup": "outside",
         "marker": {
          "color": "#00cc96",
          "symbol": "circle"
         },
         "mode": "markers",
         "name": "outside",
         "scene": "scene",
         "showlegend": true,
         "type": "scatter3d",
         "x": [
          0.11364526301622391
         ],
         "y": [
          0.10304215550422668
         ],
         "z": [
          0.06916353106498718
         ]
        },
        {
         "hovertemplate": "color=clair<br>0=%{x}<br>1=%{y}<br>2=%{z}<extra></extra>",
         "legendgroup": "clair",
         "marker": {
          "color": "#ab63fa",
          "symbol": "circle"
         },
         "mode": "markers",
         "name": "clair",
         "scene": "scene",
         "showlegend": true,
         "type": "scatter3d",
         "x": [
          0.026655370369553566
         ],
         "y": [
          -0.12543894350528717
         ],
         "z": [
          0.11830560863018036
         ]
        },
        {
         "hovertemplate": "color=goose<br>0=%{x}<br>1=%{y}<br>2=%{z}<extra></extra>",
         "legendgroup": "goose",
         "marker": {
          "color": "#FFA15A",
          "symbol": "circle"
         },
         "mode": "markers",
         "name": "goose",
         "scene": "scene",
         "showlegend": true,
         "type": "scatter3d",
         "x": [
          0.035525303333997726
         ],
         "y": [
          -0.006810861639678478
         ],
         "z": [
          0.23657454550266266
         ]
        },
        {
         "hovertemplate": "color=above<br>0=%{x}<br>1=%{y}<br>2=%{z}<extra></extra>",
         "legendgroup": "above",
         "marker": {
          "color": "#19d3f3",
          "symbol": "circle"
         },
         "mode": "markers",
         "name": "above",
         "scene": "scene",
         "showlegend": true,
         "type": "scatter3d",
         "x": [
          0.09315893054008484
         ],
         "y": [
          -0.010456196032464504
         ],
         "z": [
          0.08970091491937637
         ]
        },
        {
         "hovertemplate": "color=air<br>0=%{x}<br>1=%{y}<br>2=%{z}<extra></extra>",
         "legendgroup": "air",
         "marker": {
          "color": "#FF6692",
          "symbol": "circle"
         },
         "mode": "markers",
         "name": "air",
         "scene": "scene",
         "showlegend": true,
         "type": "scatter3d",
         "x": [
          0.31015825271606445
         ],
         "y": [
          -0.18992003798484802
         ],
         "z": [
          -0.09831391274929047
         ]
        },
        {
         "hovertemplate": "color=dress<br>0=%{x}<br>1=%{y}<br>2=%{z}<extra></extra>",
         "legendgroup": "dress",
         "marker": {
          "color": "#B6E880",
          "symbol": "circle"
         },
         "mode": "markers",
         "name": "dress",
         "scene": "scene",
         "showlegend": true,
         "type": "scatter3d",
         "x": [
          0.1030026227235794
         ],
         "y": [
          -0.0407334640622139
         ],
         "z": [
          -0.17754001915454865
         ]
        },
        {
         "hovertemplate": "color=marriage<br>0=%{x}<br>1=%{y}<br>2=%{z}<extra></extra>",
         "legendgroup": "marriage",
         "marker": {
          "color": "#FF97FF",
          "symbol": "circle"
         },
         "mode": "markers",
         "name": "marriage",
         "scene": "scene",
         "showlegend": true,
         "type": "scatter3d",
         "x": [
          -0.39457079768180847
         ],
         "y": [
          -0.09403534978628159
         ],
         "z": [
          0.07477132976055145
         ]
        },
        {
         "hovertemplate": "color=remember<br>0=%{x}<br>1=%{y}<br>2=%{z}<extra></extra>",
         "legendgroup": "remember",
         "marker": {
          "color": "#FECB52",
          "symbol": "circle"
         },
         "mode": "markers",
         "name": "remember",
         "scene": "scene",
         "showlegend": true,
         "type": "scatter3d",
         "x": [
          -0.23095785081386566
         ],
         "y": [
          -0.14859876036643982
         ],
         "z": [
          0.11192532628774643
         ]
        },
        {
         "hovertemplate": "color=electronic<br>0=%{x}<br>1=%{y}<br>2=%{z}<extra></extra>",
         "legendgroup": "electronic",
         "marker": {
          "color": "#636efa",
          "symbol": "circle"
         },
         "mode": "markers",
         "name": "electronic",
         "scene": "scene",
         "showlegend": true,
         "type": "scatter3d",
         "x": [
          -0.24517276883125305
         ],
         "y": [
          0.4545193314552307
         ],
         "z": [
          0.1665296107530594
         ]
        },
        {
         "hovertemplate": "color=spoke<br>0=%{x}<br>1=%{y}<br>2=%{z}<extra></extra>",
         "legendgroup": "spoke",
         "marker": {
          "color": "#EF553B",
          "symbol": "circle"
         },
         "mode": "markers",
         "name": "spoke",
         "scene": "scene",
         "showlegend": true,
         "type": "scatter3d",
         "x": [
          0.1922212690114975
         ],
         "y": [
          -0.39498960971832275
         ],
         "z": [
          -0.17174604535102844
         ]
        },
        {
         "hovertemplate": "color=appeared<br>0=%{x}<br>1=%{y}<br>2=%{z}<extra></extra>",
         "legendgroup": "appeared",
         "marker": {
          "color": "#00cc96",
          "symbol": "circle"
         },
         "mode": "markers",
         "name": "appeared",
         "scene": "scene",
         "showlegend": true,
         "type": "scatter3d",
         "x": [
          0.031777624040842056
         ],
         "y": [
          -0.08430583029985428
         ],
         "z": [
          -0.035796429961919785
         ]
        },
        {
         "hovertemplate": "color=week<br>0=%{x}<br>1=%{y}<br>2=%{z}<extra></extra>",
         "legendgroup": "week",
         "marker": {
          "color": "#ab63fa",
          "symbol": "circle"
         },
         "mode": "markers",
         "name": "week",
         "scene": "scene",
         "showlegend": true,
         "type": "scatter3d",
         "x": [
          -0.12016845494508743
         ],
         "y": [
          -0.021374555304646492
         ],
         "z": [
          0.4069046080112457
         ]
        },
        {
         "hovertemplate": "color=girl<br>0=%{x}<br>1=%{y}<br>2=%{z}<extra></extra>",
         "legendgroup": "girl",
         "marker": {
          "color": "#FFA15A",
          "symbol": "circle"
         },
         "mode": "markers",
         "name": "girl",
         "scene": "scene",
         "showlegend": true,
         "type": "scatter3d",
         "x": [
          -0.3159360885620117
         ],
         "y": [
          -0.10754118859767914
         ],
         "z": [
          -0.1006251871585846
         ]
        },
        {
         "hovertemplate": "color=visitor<br>0=%{x}<br>1=%{y}<br>2=%{z}<extra></extra>",
         "legendgroup": "visitor",
         "marker": {
          "color": "#19d3f3",
          "symbol": "circle"
         },
         "mode": "markers",
         "name": "visitor",
         "scene": "scene",
         "showlegend": true,
         "type": "scatter3d",
         "x": [
          0.04519126936793327
         ],
         "y": [
          -0.2872008979320526
         ],
         "z": [
          -0.18293756246566772
         ]
        },
        {
         "hovertemplate": "color=alone<br>0=%{x}<br>1=%{y}<br>2=%{z}<extra></extra>",
         "legendgroup": "alone",
         "marker": {
          "color": "#FF6692",
          "symbol": "circle"
         },
         "mode": "markers",
         "name": "alone",
         "scene": "scene",
         "showlegend": true,
         "type": "scatter3d",
         "x": [
          -0.2250102013349533
         ],
         "y": [
          -0.10983237624168396
         ],
         "z": [
          0.10233763605356216
         ]
        },
        {
         "hovertemplate": "color=held<br>0=%{x}<br>1=%{y}<br>2=%{z}<extra></extra>",
         "legendgroup": "held",
         "marker": {
          "color": "#B6E880",
          "symbol": "circle"
         },
         "mode": "markers",
         "name": "held",
         "scene": "scene",
         "showlegend": true,
         "type": "scatter3d",
         "x": [
          0.2040390521287918
         ],
         "y": [
          -0.15381114184856415
         ],
         "z": [
          -0.13876692950725555
         ]
        },
        {
         "hovertemplate": "color=reason<br>0=%{x}<br>1=%{y}<br>2=%{z}<extra></extra>",
         "legendgroup": "reason",
         "marker": {
          "color": "#FF97FF",
          "symbol": "circle"
         },
         "mode": "markers",
         "name": "reason",
         "scene": "scene",
         "showlegend": true,
         "type": "scatter3d",
         "x": [
          -0.43739497661590576
         ],
         "y": [
          -0.14429910480976105
         ],
         "z": [
          0.07459436357021332
         ]
        },
        {
         "hovertemplate": "color=thank<br>0=%{x}<br>1=%{y}<br>2=%{z}<extra></extra>",
         "legendgroup": "thank",
         "marker": {
          "color": "#FECB52",
          "symbol": "circle"
         },
         "mode": "markers",
         "name": "thank",
         "scene": "scene",
         "showlegend": true,
         "type": "scatter3d",
         "x": [
          -0.41601699590682983
         ],
         "y": [
          -0.18511086702346802
         ],
         "z": [
          -0.12834687530994415
         ]
        },
        {
         "hovertemplate": "color=blue<br>0=%{x}<br>1=%{y}<br>2=%{z}<extra></extra>",
         "legendgroup": "blue",
         "marker": {
          "color": "#636efa",
          "symbol": "circle"
         },
         "mode": "markers",
         "name": "blue",
         "scene": "scene",
         "showlegend": true,
         "type": "scatter3d",
         "x": [
          0.4528493583202362
         ],
         "y": [
          0.06537888944149017
         ],
         "z": [
          -0.13336530327796936
         ]
        },
        {
         "hovertemplate": "color=deep<br>0=%{x}<br>1=%{y}<br>2=%{z}<extra></extra>",
         "legendgroup": "deep",
         "marker": {
          "color": "#EF553B",
          "symbol": "circle"
         },
         "mode": "markers",
         "name": "deep",
         "scene": "scene",
         "showlegend": true,
         "type": "scatter3d",
         "x": [
          0.2899327576160431
         ],
         "y": [
          0.05300265923142433
         ],
         "z": [
          -0.09813345968723297
         ]
        },
        {
         "hovertemplate": "color=mine<br>0=%{x}<br>1=%{y}<br>2=%{z}<extra></extra>",
         "legendgroup": "mine",
         "marker": {
          "color": "#00cc96",
          "symbol": "circle"
         },
         "mode": "markers",
         "name": "mine",
         "scene": "scene",
         "showlegend": true,
         "type": "scatter3d",
         "x": [
          -0.20920529961585999
         ],
         "y": [
          -0.04467245936393738
         ],
         "z": [
          -0.13781893253326416
         ]
        },
        {
         "hovertemplate": "color=rose<br>0=%{x}<br>1=%{y}<br>2=%{z}<extra></extra>",
         "legendgroup": "rose",
         "marker": {
          "color": "#ab63fa",
          "symbol": "circle"
         },
         "mode": "markers",
         "name": "rose",
         "scene": "scene",
         "showlegend": true,
         "type": "scatter3d",
         "x": [
          0.18870212137699127
         ],
         "y": [
          -0.47042763233184814
         ],
         "z": [
          -0.046513643115758896
         ]
        },
        {
         "hovertemplate": "color=person<br>0=%{x}<br>1=%{y}<br>2=%{z}<extra></extra>",
         "legendgroup": "person",
         "marker": {
          "color": "#FFA15A",
          "symbol": "circle"
         },
         "mode": "markers",
         "name": "person",
         "scene": "scene",
         "showlegend": true,
         "type": "scatter3d",
         "x": [
          -0.2899242639541626
         ],
         "y": [
          0.20880332589149475
         ],
         "z": [
          0.046943675726652145
         ]
        },
        {
         "hovertemplate": "color=called<br>0=%{x}<br>1=%{y}<br>2=%{z}<extra></extra>",
         "legendgroup": "called",
         "marker": {
          "color": "#19d3f3",
          "symbol": "circle"
         },
         "mode": "markers",
         "name": "called",
         "scene": "scene",
         "showlegend": true,
         "type": "scatter3d",
         "x": [
          -0.0730828046798706
         ],
         "y": [
          -0.2829400897026062
         ],
         "z": [
          0.31485897302627563
         ]
        },
        {
         "hovertemplate": "color=john<br>0=%{x}<br>1=%{y}<br>2=%{z}<extra></extra>",
         "legendgroup": "john",
         "marker": {
          "color": "#FF6692",
          "symbol": "circle"
         },
         "mode": "markers",
         "name": "john",
         "scene": "scene",
         "showlegend": true,
         "type": "scatter3d",
         "x": [
          -0.02458508312702179
         ],
         "y": [
          0.05016466975212097
         ],
         "z": [
          -0.07792322337627411
         ]
        },
        {
         "hovertemplate": "color=king<br>0=%{x}<br>1=%{y}<br>2=%{z}<extra></extra>",
         "legendgroup": "king",
         "marker": {
          "color": "#B6E880",
          "symbol": "circle"
         },
         "mode": "markers",
         "name": "king",
         "scene": "scene",
         "showlegend": true,
         "type": "scatter3d",
         "x": [
          -0.23372389376163483
         ],
         "y": [
          0.08307255804538727
         ],
         "z": [
          0.24084335565567017
         ]
        },
        {
         "hovertemplate": "color=easy<br>0=%{x}<br>1=%{y}<br>2=%{z}<extra></extra>",
         "legendgroup": "easy",
         "marker": {
          "color": "#FF97FF",
          "symbol": "circle"
         },
         "mode": "markers",
         "name": "easy",
         "scene": "scene",
         "showlegend": true,
         "type": "scatter3d",
         "x": [
          -0.25567132234573364
         ],
         "y": [
          0.003206529887393117
         ],
         "z": [
          -0.2533196210861206
         ]
        },
        {
         "hovertemplate": "color=dressed<br>0=%{x}<br>1=%{y}<br>2=%{z}<extra></extra>",
         "legendgroup": "dressed",
         "marker": {
          "color": "#FECB52",
          "symbol": "circle"
         },
         "mode": "markers",
         "name": "dressed",
         "scene": "scene",
         "showlegend": true,
         "type": "scatter3d",
         "x": [
          0.17963355779647827
         ],
         "y": [
          -0.2644401788711548
         ],
         "z": [
          -0.013041202910244465
         ]
        },
        {
         "hovertemplate": "color=drove<br>0=%{x}<br>1=%{y}<br>2=%{z}<extra></extra>",
         "legendgroup": "drove",
         "marker": {
          "color": "#636efa",
          "symbol": "circle"
         },
         "mode": "markers",
         "name": "drove",
         "scene": "scene",
         "showlegend": true,
         "type": "scatter3d",
         "x": [
          0.18034052848815918
         ],
         "y": [
          -0.3944057524204254
         ],
         "z": [
          0.42516908049583435
         ]
        },
        {
         "hovertemplate": "color=cab<br>0=%{x}<br>1=%{y}<br>2=%{z}<extra></extra>",
         "legendgroup": "cab",
         "marker": {
          "color": "#EF553B",
          "symbol": "circle"
         },
         "mode": "markers",
         "name": "cab",
         "scene": "scene",
         "showlegend": true,
         "type": "scatter3d",
         "x": [
          -0.0003729815944097936
         ],
         "y": [
          -0.3800433874130249
         ],
         "z": [
          0.44733667373657227
         ]
        },
        {
         "hovertemplate": "color=fact<br>0=%{x}<br>1=%{y}<br>2=%{z}<extra></extra>",
         "legendgroup": "fact",
         "marker": {
          "color": "#00cc96",
          "symbol": "circle"
         },
         "mode": "markers",
         "name": "fact",
         "scene": "scene",
         "showlegend": true,
         "type": "scatter3d",
         "x": [
          -0.20753788948059082
         ],
         "y": [
          0.0587640218436718
         ],
         "z": [
          0.07137185335159302
         ]
        },
        {
         "hovertemplate": "color=followed<br>0=%{x}<br>1=%{y}<br>2=%{z}<extra></extra>",
         "legendgroup": "followed",
         "marker": {
          "color": "#ab63fa",
          "symbol": "circle"
         },
         "mode": "markers",
         "name": "followed",
         "scene": "scene",
         "showlegend": true,
         "type": "scatter3d",
         "x": [
          0.07569821923971176
         ],
         "y": [
          -0.25978884100914
         ],
         "z": [
          0.2675217092037201
         ]
        },
        {
         "hovertemplate": "color=heart<br>0=%{x}<br>1=%{y}<br>2=%{z}<extra></extra>",
         "legendgroup": "heart",
         "marker": {
          "color": "#FFA15A",
          "symbol": "circle"
         },
         "mode": "markers",
         "name": "heart",
         "scene": "scene",
         "showlegend": true,
         "type": "scatter3d",
         "x": [
          -0.15935544669628143
         ],
         "y": [
          -0.18345654010772705
         ],
         "z": [
          -0.05928836017847061
         ]
        },
        {
         "hovertemplate": "color=square<br>0=%{x}<br>1=%{y}<br>2=%{z}<extra></extra>",
         "legendgroup": "square",
         "marker": {
          "color": "#19d3f3",
          "symbol": "circle"
         },
         "mode": "markers",
         "name": "square",
         "scene": "scene",
         "showlegend": true,
         "type": "scatter3d",
         "x": [
          0.2938055396080017
         ],
         "y": [
          0.02685224451124668
         ],
         "z": [
          0.2596401274204254
         ]
        },
        {
         "hovertemplate": "color=beside<br>0=%{x}<br>1=%{y}<br>2=%{z}<extra></extra>",
         "legendgroup": "beside",
         "marker": {
          "color": "#FF6692",
          "symbol": "circle"
         },
         "mode": "markers",
         "name": "beside",
         "scene": "scene",
         "showlegend": true,
         "type": "scatter3d",
         "x": [
          0.302913635969162
         ],
         "y": [
          -0.059119127690792084
         ],
         "z": [
          -0.0571291446685791
         ]
        },
        {
         "hovertemplate": "color=photograph<br>0=%{x}<br>1=%{y}<br>2=%{z}<extra></extra>",
         "legendgroup": "photograph",
         "marker": {
          "color": "#B6E880",
          "symbol": "circle"
         },
         "mode": "markers",
         "name": "photograph",
         "scene": "scene",
         "showlegend": true,
         "type": "scatter3d",
         "x": [
          -0.21534602344036102
         ],
         "y": [
          -0.149947389960289
         ],
         "z": [
          0.04821100831031799
         ]
        },
        {
         "hovertemplate": "color=married<br>0=%{x}<br>1=%{y}<br>2=%{z}<extra></extra>",
         "legendgroup": "married",
         "marker": {
          "color": "#FF97FF",
          "symbol": "circle"
         },
         "mode": "markers",
         "name": "married",
         "scene": "scene",
         "showlegend": true,
         "type": "scatter3d",
         "x": [
          -0.2570168077945709
         ],
         "y": [
          -0.20110470056533813
         ],
         "z": [
          0.045922521501779556
         ]
        },
        {
         "hovertemplate": "color=bell<br>0=%{x}<br>1=%{y}<br>2=%{z}<extra></extra>",
         "legendgroup": "bell",
         "marker": {
          "color": "#FECB52",
          "symbol": "circle"
         },
         "mode": "markers",
         "name": "bell",
         "scene": "scene",
         "showlegend": true,
         "type": "scatter3d",
         "x": [
          0.07047057151794434
         ],
         "y": [
          -0.22067150473594666
         ],
         "z": [
          0.024334877729415894
         ]
        },
        {
         "hovertemplate": "color=foundation<br>0=%{x}<br>1=%{y}<br>2=%{z}<extra></extra>",
         "legendgroup": "foundation",
         "marker": {
          "color": "#636efa",
          "symbol": "circle"
         },
         "mode": "markers",
         "name": "foundation",
         "scene": "scene",
         "showlegend": true,
         "type": "scatter3d",
         "x": [
          -0.08833372592926025
         ],
         "y": [
          0.34569039940834045
         ],
         "z": [
          0.07926048338413239
         ]
        },
        {
         "hovertemplate": "color=quick<br>0=%{x}<br>1=%{y}<br>2=%{z}<extra></extra>",
         "legendgroup": "quick",
         "marker": {
          "color": "#EF553B",
          "symbol": "circle"
         },
         "mode": "markers",
         "name": "quick",
         "scene": "scene",
         "showlegend": true,
         "type": "scatter3d",
         "x": [
          0.04198487475514412
         ],
         "y": [
          -0.10981772094964981
         ],
         "z": [
          -0.2783808410167694
         ]
        },
        {
         "hovertemplate": "color=led<br>0=%{x}<br>1=%{y}<br>2=%{z}<extra></extra>",
         "legendgroup": "led",
         "marker": {
          "color": "#00cc96",
          "symbol": "circle"
         },
         "mode": "markers",
         "name": "led",
         "scene": "scene",
         "showlegend": true,
         "type": "scatter3d",
         "x": [
          0.25650376081466675
         ],
         "y": [
          -0.12649793922901154
         ],
         "z": [
          0.32409197092056274
         ]
        },
        {
         "hovertemplate": "color=steps<br>0=%{x}<br>1=%{y}<br>2=%{z}<extra></extra>",
         "legendgroup": "steps",
         "marker": {
          "color": "#ab63fa",
          "symbol": "circle"
         },
         "mode": "markers",
         "name": "steps",
         "scene": "scene",
         "showlegend": true,
         "type": "scatter3d",
         "x": [
          0.03623760864138603
         ],
         "y": [
          -0.16362126171588898
         ],
         "z": [
          0.32206764817237854
         ]
        },
        {
         "hovertemplate": "color=chance<br>0=%{x}<br>1=%{y}<br>2=%{z}<extra></extra>",
         "legendgroup": "chance",
         "marker": {
          "color": "#FFA15A",
          "symbol": "circle"
         },
         "mode": "markers",
         "name": "chance",
         "scene": "scene",
         "showlegend": true,
         "type": "scatter3d",
         "x": [
          -0.25834035873413086
         ],
         "y": [
          -0.21455422043800354
         ],
         "z": [
          0.25336217880249023
         ]
        },
        {
         "hovertemplate": "color=windows<br>0=%{x}<br>1=%{y}<br>2=%{z}<extra></extra>",
         "legendgroup": "windows",
         "marker": {
          "color": "#19d3f3",
          "symbol": "circle"
         },
         "mode": "markers",
         "name": "windows",
         "scene": "scene",
         "showlegend": true,
         "type": "scatter3d",
         "x": [
          0.37413695454597473
         ],
         "y": [
          0.11925837397575378
         ],
         "z": [
          0.26754605770111084
         ]
        },
        {
         "hovertemplate": "color=began<br>0=%{x}<br>1=%{y}<br>2=%{z}<extra></extra>",
         "legendgroup": "began",
         "marker": {
          "color": "#FF6692",
          "symbol": "circle"
         },
         "mode": "markers",
         "name": "began",
         "scene": "scene",
         "showlegend": true,
         "type": "scatter3d",
         "x": [
          0.12484900653362274
         ],
         "y": [
          -0.4129275679588318
         ],
         "z": [
          0.028159575536847115
         ]
        },
        {
         "hovertemplate": "color=silence<br>0=%{x}<br>1=%{y}<br>2=%{z}<extra></extra>",
         "legendgroup": "silence",
         "marker": {
          "color": "#B6E880",
          "symbol": "circle"
         },
         "mode": "markers",
         "name": "silence",
         "scene": "scene",
         "showlegend": true,
         "type": "scatter3d",
         "x": [
          0.1811690628528595
         ],
         "y": [
          -0.26603958010673523
         ],
         "z": [
          0.12764255702495575
         ]
        },
        {
         "hovertemplate": "color=because<br>0=%{x}<br>1=%{y}<br>2=%{z}<extra></extra>",
         "legendgroup": "because",
         "marker": {
          "color": "#FF97FF",
          "symbol": "circle"
         },
         "mode": "markers",
         "name": "because",
         "scene": "scene",
         "showlegend": true,
         "type": "scatter3d",
         "x": [
          -0.4668569266796112
         ],
         "y": [
          -0.12074501067399979
         ],
         "z": [
          0.00372520019300282
         ]
        },
        {
         "hovertemplate": "color=headed<br>0=%{x}<br>1=%{y}<br>2=%{z}<extra></extra>",
         "legendgroup": "headed",
         "marker": {
          "color": "#FECB52",
          "symbol": "circle"
         },
         "mode": "markers",
         "name": "headed",
         "scene": "scene",
         "showlegend": true,
         "type": "scatter3d",
         "x": [
          0.030276942998170853
         ],
         "y": [
          0.10079006850719452
         ],
         "z": [
          -0.10942555963993073
         ]
        },
        {
         "hovertemplate": "color=struck<br>0=%{x}<br>1=%{y}<br>2=%{z}<extra></extra>",
         "legendgroup": "struck",
         "marker": {
          "color": "#636efa",
          "symbol": "circle"
         },
         "mode": "markers",
         "name": "struck",
         "scene": "scene",
         "showlegend": true,
         "type": "scatter3d",
         "x": [
          0.16621041297912598
         ],
         "y": [
          -0.22415052354335785
         ],
         "z": [
          -0.024840401485562325
         ]
        },
        {
         "hovertemplate": "color=eye<br>0=%{x}<br>1=%{y}<br>2=%{z}<extra></extra>",
         "legendgroup": "eye",
         "marker": {
          "color": "#EF553B",
          "symbol": "circle"
         },
         "mode": "markers",
         "name": "eye",
         "scene": "scene",
         "showlegend": true,
         "type": "scatter3d",
         "x": [
          0.11982826143503189
         ],
         "y": [
          -0.20603443682193756
         ],
         "z": [
          -0.14115439355373383
         ]
        },
        {
         "hovertemplate": "color=grey<br>0=%{x}<br>1=%{y}<br>2=%{z}<extra></extra>",
         "legendgroup": "grey",
         "marker": {
          "color": "#00cc96",
          "symbol": "circle"
         },
         "mode": "markers",
         "name": "grey",
         "scene": "scene",
         "showlegend": true,
         "type": "scatter3d",
         "x": [
          0.5343090891838074
         ],
         "y": [
          0.20058506727218628
         ],
         "z": [
          -0.1285821497440338
         ]
        },
        {
         "hovertemplate": "color=likely<br>0=%{x}<br>1=%{y}<br>2=%{z}<extra></extra>",
         "legendgroup": "likely",
         "marker": {
          "color": "#ab63fa",
          "symbol": "circle"
         },
         "mode": "markers",
         "name": "likely",
         "scene": "scene",
         "showlegend": true,
         "type": "scatter3d",
         "x": [
          -0.34763339161872864
         ],
         "y": [
          0.029158925637602806
         ],
         "z": [
          -0.09495905786752701
         ]
        },
        {
         "hovertemplate": "color=twenty<br>0=%{x}<br>1=%{y}<br>2=%{z}<extra></extra>",
         "legendgroup": "twenty",
         "marker": {
          "color": "#FFA15A",
          "symbol": "circle"
         },
         "mode": "markers",
         "name": "twenty",
         "scene": "scene",
         "showlegend": true,
         "type": "scatter3d",
         "x": [
          -0.09617532044649124
         ],
         "y": [
          -0.07089889049530029
         ],
         "z": [
          0.1143299788236618
         ]
        },
        {
         "hovertemplate": "color=started<br>0=%{x}<br>1=%{y}<br>2=%{z}<extra></extra>",
         "legendgroup": "started",
         "marker": {
          "color": "#19d3f3",
          "symbol": "circle"
         },
         "mode": "markers",
         "name": "started",
         "scene": "scene",
         "showlegend": true,
         "type": "scatter3d",
         "x": [
          -0.019227268174290657
         ],
         "y": [
          -0.24593603610992432
         ],
         "z": [
          0.3479352593421936
         ]
        },
        {
         "hovertemplate": "color=attention<br>0=%{x}<br>1=%{y}<br>2=%{z}<extra></extra>",
         "legendgroup": "attention",
         "marker": {
          "color": "#FF6692",
          "symbol": "circle"
         },
         "mode": "markers",
         "name": "attention",
         "scene": "scene",
         "showlegend": true,
         "type": "scatter3d",
         "x": [
          -0.20365118980407715
         ],
         "y": [
          0.07970970124006271
         ],
         "z": [
          -0.031570643186569214
         ]
        },
        {
         "hovertemplate": "color=bird<br>0=%{x}<br>1=%{y}<br>2=%{z}<extra></extra>",
         "legendgroup": "bird",
         "marker": {
          "color": "#B6E880",
          "symbol": "circle"
         },
         "mode": "markers",
         "name": "bird",
         "scene": "scene",
         "showlegend": true,
         "type": "scatter3d",
         "x": [
          -0.07368578016757965
         ],
         "y": [
          -0.04224911704659462
         ],
         "z": [
          0.0515749454498291
         ]
        },
        {
         "hovertemplate": "color=terms<br>0=%{x}<br>1=%{y}<br>2=%{z}<extra></extra>",
         "legendgroup": "terms",
         "marker": {
          "color": "#FF97FF",
          "symbol": "circle"
         },
         "mode": "markers",
         "name": "terms",
         "scene": "scene",
         "showlegend": true,
         "type": "scatter3d",
         "x": [
          -0.22054095566272736
         ],
         "y": [
          0.4045864939689636
         ],
         "z": [
          0.16768813133239746
         ]
        },
        {
         "hovertemplate": "color=public<br>0=%{x}<br>1=%{y}<br>2=%{z}<extra></extra>",
         "legendgroup": "public",
         "marker": {
          "color": "#FECB52",
          "symbol": "circle"
         },
         "mode": "markers",
         "name": "public",
         "scene": "scene",
         "showlegend": true,
         "type": "scatter3d",
         "x": [
          -0.19477282464504242
         ],
         "y": [
          0.3085714280605316
         ],
         "z": [
          -0.02996603026986122
         ]
        },
        {
         "hovertemplate": "color=next<br>0=%{x}<br>1=%{y}<br>2=%{z}<extra></extra>",
         "legendgroup": "next",
         "marker": {
          "color": "#636efa",
          "symbol": "circle"
         },
         "mode": "markers",
         "name": "next",
         "scene": "scene",
         "showlegend": true,
         "type": "scatter3d",
         "x": [
          -0.130361869931221
         ],
         "y": [
          -0.1552673876285553
         ],
         "z": [
          0.2546207010746002
         ]
        },
        {
         "hovertemplate": "color=step<br>0=%{x}<br>1=%{y}<br>2=%{z}<extra></extra>",
         "legendgroup": "step",
         "marker": {
          "color": "#EF553B",
          "symbol": "circle"
         },
         "mode": "markers",
         "name": "step",
         "scene": "scene",
         "showlegend": true,
         "type": "scatter3d",
         "x": [
          0.15570908784866333
         ],
         "y": [
          -0.3483055531978607
         ],
         "z": [
          -0.04058733209967613
         ]
        },
        {
         "hovertemplate": "color=nature<br>0=%{x}<br>1=%{y}<br>2=%{z}<extra></extra>",
         "legendgroup": "nature",
         "marker": {
          "color": "#00cc96",
          "symbol": "circle"
         },
         "mode": "markers",
         "name": "nature",
         "scene": "scene",
         "showlegend": true,
         "type": "scatter3d",
         "x": [
          -0.12807786464691162
         ],
         "y": [
          0.1119157075881958
         ],
         "z": [
          -0.16755692660808563
         ]
        },
        {
         "hovertemplate": "color=ready<br>0=%{x}<br>1=%{y}<br>2=%{z}<extra></extra>",
         "legendgroup": "ready",
         "marker": {
          "color": "#ab63fa",
          "symbol": "circle"
         },
         "mode": "markers",
         "name": "ready",
         "scene": "scene",
         "showlegend": true,
         "type": "scatter3d",
         "x": [
          -0.23458704352378845
         ],
         "y": [
          -0.07453276962041855
         ],
         "z": [
          -0.02896377071738243
         ]
        },
        {
         "hovertemplate": "color=arthur<br>0=%{x}<br>1=%{y}<br>2=%{z}<extra></extra>",
         "legendgroup": "arthur",
         "marker": {
          "color": "#FFA15A",
          "symbol": "circle"
         },
         "mode": "markers",
         "name": "arthur",
         "scene": "scene",
         "showlegend": true,
         "type": "scatter3d",
         "x": [
          -0.16585533320903778
         ],
         "y": [
          -0.2207356095314026
         ],
         "z": [
          -0.01806490868330002
         ]
        },
        {
         "hovertemplate": "color=cases<br>0=%{x}<br>1=%{y}<br>2=%{z}<extra></extra>",
         "legendgroup": "cases",
         "marker": {
          "color": "#19d3f3",
          "symbol": "circle"
         },
         "mode": "markers",
         "name": "cases",
         "scene": "scene",
         "showlegend": true,
         "type": "scatter3d",
         "x": [
          -0.3581071197986603
         ],
         "y": [
          0.14171123504638672
         ],
         "z": [
          0.08329584449529648
         ]
        },
        {
         "hovertemplate": "color=states<br>0=%{x}<br>1=%{y}<br>2=%{z}<extra></extra>",
         "legendgroup": "states",
         "marker": {
          "color": "#FF6692",
          "symbol": "circle"
         },
         "mode": "markers",
         "name": "states",
         "scene": "scene",
         "showlegend": true,
         "type": "scatter3d",
         "x": [
          -0.21068142354488373
         ],
         "y": [
          0.3841753602027893
         ],
         "z": [
          0.30961430072784424
         ]
        },
        {
         "hovertemplate": "color=passage<br>0=%{x}<br>1=%{y}<br>2=%{z}<extra></extra>",
         "legendgroup": "passage",
         "marker": {
          "color": "#B6E880",
          "symbol": "circle"
         },
         "mode": "markers",
         "name": "passage",
         "scene": "scene",
         "showlegend": true,
         "type": "scatter3d",
         "x": [
          0.4101574420928955
         ],
         "y": [
          -0.29180991649627686
         ],
         "z": [
          0.3237808644771576
         ]
        },
        {
         "hovertemplate": "color=standing<br>0=%{x}<br>1=%{y}<br>2=%{z}<extra></extra>",
         "legendgroup": "standing",
         "marker": {
          "color": "#FF97FF",
          "symbol": "circle"
         },
         "mode": "markers",
         "name": "standing",
         "scene": "scene",
         "showlegend": true,
         "type": "scatter3d",
         "x": [
          0.42218130826950073
         ],
         "y": [
          -0.22986505925655365
         ],
         "z": [
          -0.011198502965271473
         ]
        },
        {
         "hovertemplate": "color=whose<br>0=%{x}<br>1=%{y}<br>2=%{z}<extra></extra>",
         "legendgroup": "whose",
         "marker": {
          "color": "#FECB52",
          "symbol": "circle"
         },
         "mode": "markers",
         "name": "whose",
         "scene": "scene",
         "showlegend": true,
         "type": "scatter3d",
         "x": [
          0.07297038286924362
         ],
         "y": [
          0.04042418301105499
         ],
         "z": [
          -0.2786618173122406
         ]
        }
       ],
       "layout": {
        "legend": {
         "title": {
          "text": "color"
         },
         "tracegroupgap": 0
        },
        "margin": {
         "t": 60
        },
        "scene": {
         "domain": {
          "x": [
           0,
           1
          ],
          "y": [
           0,
           1
          ]
         },
         "xaxis": {
          "title": {
           "text": "0"
          }
         },
         "yaxis": {
          "title": {
           "text": "1"
          }
         },
         "zaxis": {
          "title": {
           "text": "2"
          }
         }
        },
        "template": {
         "data": {
          "bar": [
           {
            "error_x": {
             "color": "#2a3f5f"
            },
            "error_y": {
             "color": "#2a3f5f"
            },
            "marker": {
             "line": {
              "color": "#E5ECF6",
              "width": 0.5
             },
             "pattern": {
              "fillmode": "overlay",
              "size": 10,
              "solidity": 0.2
             }
            },
            "type": "bar"
           }
          ],
          "barpolar": [
           {
            "marker": {
             "line": {
              "color": "#E5ECF6",
              "width": 0.5
             },
             "pattern": {
              "fillmode": "overlay",
              "size": 10,
              "solidity": 0.2
             }
            },
            "type": "barpolar"
           }
          ],
          "carpet": [
           {
            "aaxis": {
             "endlinecolor": "#2a3f5f",
             "gridcolor": "white",
             "linecolor": "white",
             "minorgridcolor": "white",
             "startlinecolor": "#2a3f5f"
            },
            "baxis": {
             "endlinecolor": "#2a3f5f",
             "gridcolor": "white",
             "linecolor": "white",
             "minorgridcolor": "white",
             "startlinecolor": "#2a3f5f"
            },
            "type": "carpet"
           }
          ],
          "choropleth": [
           {
            "colorbar": {
             "outlinewidth": 0,
             "ticks": ""
            },
            "type": "choropleth"
           }
          ],
          "contour": [
           {
            "colorbar": {
             "outlinewidth": 0,
             "ticks": ""
            },
            "colorscale": [
             [
              0,
              "#0d0887"
             ],
             [
              0.1111111111111111,
              "#46039f"
             ],
             [
              0.2222222222222222,
              "#7201a8"
             ],
             [
              0.3333333333333333,
              "#9c179e"
             ],
             [
              0.4444444444444444,
              "#bd3786"
             ],
             [
              0.5555555555555556,
              "#d8576b"
             ],
             [
              0.6666666666666666,
              "#ed7953"
             ],
             [
              0.7777777777777778,
              "#fb9f3a"
             ],
             [
              0.8888888888888888,
              "#fdca26"
             ],
             [
              1,
              "#f0f921"
             ]
            ],
            "type": "contour"
           }
          ],
          "contourcarpet": [
           {
            "colorbar": {
             "outlinewidth": 0,
             "ticks": ""
            },
            "type": "contourcarpet"
           }
          ],
          "heatmap": [
           {
            "colorbar": {
             "outlinewidth": 0,
             "ticks": ""
            },
            "colorscale": [
             [
              0,
              "#0d0887"
             ],
             [
              0.1111111111111111,
              "#46039f"
             ],
             [
              0.2222222222222222,
              "#7201a8"
             ],
             [
              0.3333333333333333,
              "#9c179e"
             ],
             [
              0.4444444444444444,
              "#bd3786"
             ],
             [
              0.5555555555555556,
              "#d8576b"
             ],
             [
              0.6666666666666666,
              "#ed7953"
             ],
             [
              0.7777777777777778,
              "#fb9f3a"
             ],
             [
              0.8888888888888888,
              "#fdca26"
             ],
             [
              1,
              "#f0f921"
             ]
            ],
            "type": "heatmap"
           }
          ],
          "heatmapgl": [
           {
            "colorbar": {
             "outlinewidth": 0,
             "ticks": ""
            },
            "colorscale": [
             [
              0,
              "#0d0887"
             ],
             [
              0.1111111111111111,
              "#46039f"
             ],
             [
              0.2222222222222222,
              "#7201a8"
             ],
             [
              0.3333333333333333,
              "#9c179e"
             ],
             [
              0.4444444444444444,
              "#bd3786"
             ],
             [
              0.5555555555555556,
              "#d8576b"
             ],
             [
              0.6666666666666666,
              "#ed7953"
             ],
             [
              0.7777777777777778,
              "#fb9f3a"
             ],
             [
              0.8888888888888888,
              "#fdca26"
             ],
             [
              1,
              "#f0f921"
             ]
            ],
            "type": "heatmapgl"
           }
          ],
          "histogram": [
           {
            "marker": {
             "pattern": {
              "fillmode": "overlay",
              "size": 10,
              "solidity": 0.2
             }
            },
            "type": "histogram"
           }
          ],
          "histogram2d": [
           {
            "colorbar": {
             "outlinewidth": 0,
             "ticks": ""
            },
            "colorscale": [
             [
              0,
              "#0d0887"
             ],
             [
              0.1111111111111111,
              "#46039f"
             ],
             [
              0.2222222222222222,
              "#7201a8"
             ],
             [
              0.3333333333333333,
              "#9c179e"
             ],
             [
              0.4444444444444444,
              "#bd3786"
             ],
             [
              0.5555555555555556,
              "#d8576b"
             ],
             [
              0.6666666666666666,
              "#ed7953"
             ],
             [
              0.7777777777777778,
              "#fb9f3a"
             ],
             [
              0.8888888888888888,
              "#fdca26"
             ],
             [
              1,
              "#f0f921"
             ]
            ],
            "type": "histogram2d"
           }
          ],
          "histogram2dcontour": [
           {
            "colorbar": {
             "outlinewidth": 0,
             "ticks": ""
            },
            "colorscale": [
             [
              0,
              "#0d0887"
             ],
             [
              0.1111111111111111,
              "#46039f"
             ],
             [
              0.2222222222222222,
              "#7201a8"
             ],
             [
              0.3333333333333333,
              "#9c179e"
             ],
             [
              0.4444444444444444,
              "#bd3786"
             ],
             [
              0.5555555555555556,
              "#d8576b"
             ],
             [
              0.6666666666666666,
              "#ed7953"
             ],
             [
              0.7777777777777778,
              "#fb9f3a"
             ],
             [
              0.8888888888888888,
              "#fdca26"
             ],
             [
              1,
              "#f0f921"
             ]
            ],
            "type": "histogram2dcontour"
           }
          ],
          "mesh3d": [
           {
            "colorbar": {
             "outlinewidth": 0,
             "ticks": ""
            },
            "type": "mesh3d"
           }
          ],
          "parcoords": [
           {
            "line": {
             "colorbar": {
              "outlinewidth": 0,
              "ticks": ""
             }
            },
            "type": "parcoords"
           }
          ],
          "pie": [
           {
            "automargin": true,
            "type": "pie"
           }
          ],
          "scatter": [
           {
            "fillpattern": {
             "fillmode": "overlay",
             "size": 10,
             "solidity": 0.2
            },
            "type": "scatter"
           }
          ],
          "scatter3d": [
           {
            "line": {
             "colorbar": {
              "outlinewidth": 0,
              "ticks": ""
             }
            },
            "marker": {
             "colorbar": {
              "outlinewidth": 0,
              "ticks": ""
             }
            },
            "type": "scatter3d"
           }
          ],
          "scattercarpet": [
           {
            "marker": {
             "colorbar": {
              "outlinewidth": 0,
              "ticks": ""
             }
            },
            "type": "scattercarpet"
           }
          ],
          "scattergeo": [
           {
            "marker": {
             "colorbar": {
              "outlinewidth": 0,
              "ticks": ""
             }
            },
            "type": "scattergeo"
           }
          ],
          "scattergl": [
           {
            "marker": {
             "colorbar": {
              "outlinewidth": 0,
              "ticks": ""
             }
            },
            "type": "scattergl"
           }
          ],
          "scattermapbox": [
           {
            "marker": {
             "colorbar": {
              "outlinewidth": 0,
              "ticks": ""
             }
            },
            "type": "scattermapbox"
           }
          ],
          "scatterpolar": [
           {
            "marker": {
             "colorbar": {
              "outlinewidth": 0,
              "ticks": ""
             }
            },
            "type": "scatterpolar"
           }
          ],
          "scatterpolargl": [
           {
            "marker": {
             "colorbar": {
              "outlinewidth": 0,
              "ticks": ""
             }
            },
            "type": "scatterpolargl"
           }
          ],
          "scatterternary": [
           {
            "marker": {
             "colorbar": {
              "outlinewidth": 0,
              "ticks": ""
             }
            },
            "type": "scatterternary"
           }
          ],
          "surface": [
           {
            "colorbar": {
             "outlinewidth": 0,
             "ticks": ""
            },
            "colorscale": [
             [
              0,
              "#0d0887"
             ],
             [
              0.1111111111111111,
              "#46039f"
             ],
             [
              0.2222222222222222,
              "#7201a8"
             ],
             [
              0.3333333333333333,
              "#9c179e"
             ],
             [
              0.4444444444444444,
              "#bd3786"
             ],
             [
              0.5555555555555556,
              "#d8576b"
             ],
             [
              0.6666666666666666,
              "#ed7953"
             ],
             [
              0.7777777777777778,
              "#fb9f3a"
             ],
             [
              0.8888888888888888,
              "#fdca26"
             ],
             [
              1,
              "#f0f921"
             ]
            ],
            "type": "surface"
           }
          ],
          "table": [
           {
            "cells": {
             "fill": {
              "color": "#EBF0F8"
             },
             "line": {
              "color": "white"
             }
            },
            "header": {
             "fill": {
              "color": "#C8D4E3"
             },
             "line": {
              "color": "white"
             }
            },
            "type": "table"
           }
          ]
         },
         "layout": {
          "annotationdefaults": {
           "arrowcolor": "#2a3f5f",
           "arrowhead": 0,
           "arrowwidth": 1
          },
          "autotypenumbers": "strict",
          "coloraxis": {
           "colorbar": {
            "outlinewidth": 0,
            "ticks": ""
           }
          },
          "colorscale": {
           "diverging": [
            [
             0,
             "#8e0152"
            ],
            [
             0.1,
             "#c51b7d"
            ],
            [
             0.2,
             "#de77ae"
            ],
            [
             0.3,
             "#f1b6da"
            ],
            [
             0.4,
             "#fde0ef"
            ],
            [
             0.5,
             "#f7f7f7"
            ],
            [
             0.6,
             "#e6f5d0"
            ],
            [
             0.7,
             "#b8e186"
            ],
            [
             0.8,
             "#7fbc41"
            ],
            [
             0.9,
             "#4d9221"
            ],
            [
             1,
             "#276419"
            ]
           ],
           "sequential": [
            [
             0,
             "#0d0887"
            ],
            [
             0.1111111111111111,
             "#46039f"
            ],
            [
             0.2222222222222222,
             "#7201a8"
            ],
            [
             0.3333333333333333,
             "#9c179e"
            ],
            [
             0.4444444444444444,
             "#bd3786"
            ],
            [
             0.5555555555555556,
             "#d8576b"
            ],
            [
             0.6666666666666666,
             "#ed7953"
            ],
            [
             0.7777777777777778,
             "#fb9f3a"
            ],
            [
             0.8888888888888888,
             "#fdca26"
            ],
            [
             1,
             "#f0f921"
            ]
           ],
           "sequentialminus": [
            [
             0,
             "#0d0887"
            ],
            [
             0.1111111111111111,
             "#46039f"
            ],
            [
             0.2222222222222222,
             "#7201a8"
            ],
            [
             0.3333333333333333,
             "#9c179e"
            ],
            [
             0.4444444444444444,
             "#bd3786"
            ],
            [
             0.5555555555555556,
             "#d8576b"
            ],
            [
             0.6666666666666666,
             "#ed7953"
            ],
            [
             0.7777777777777778,
             "#fb9f3a"
            ],
            [
             0.8888888888888888,
             "#fdca26"
            ],
            [
             1,
             "#f0f921"
            ]
           ]
          },
          "colorway": [
           "#636efa",
           "#EF553B",
           "#00cc96",
           "#ab63fa",
           "#FFA15A",
           "#19d3f3",
           "#FF6692",
           "#B6E880",
           "#FF97FF",
           "#FECB52"
          ],
          "font": {
           "color": "#2a3f5f"
          },
          "geo": {
           "bgcolor": "white",
           "lakecolor": "white",
           "landcolor": "#E5ECF6",
           "showlakes": true,
           "showland": true,
           "subunitcolor": "white"
          },
          "hoverlabel": {
           "align": "left"
          },
          "hovermode": "closest",
          "mapbox": {
           "style": "light"
          },
          "paper_bgcolor": "white",
          "plot_bgcolor": "#E5ECF6",
          "polar": {
           "angularaxis": {
            "gridcolor": "white",
            "linecolor": "white",
            "ticks": ""
           },
           "bgcolor": "#E5ECF6",
           "radialaxis": {
            "gridcolor": "white",
            "linecolor": "white",
            "ticks": ""
           }
          },
          "scene": {
           "xaxis": {
            "backgroundcolor": "#E5ECF6",
            "gridcolor": "white",
            "gridwidth": 2,
            "linecolor": "white",
            "showbackground": true,
            "ticks": "",
            "zerolinecolor": "white"
           },
           "yaxis": {
            "backgroundcolor": "#E5ECF6",
            "gridcolor": "white",
            "gridwidth": 2,
            "linecolor": "white",
            "showbackground": true,
            "ticks": "",
            "zerolinecolor": "white"
           },
           "zaxis": {
            "backgroundcolor": "#E5ECF6",
            "gridcolor": "white",
            "gridwidth": 2,
            "linecolor": "white",
            "showbackground": true,
            "ticks": "",
            "zerolinecolor": "white"
           }
          },
          "shapedefaults": {
           "line": {
            "color": "#2a3f5f"
           }
          },
          "ternary": {
           "aaxis": {
            "gridcolor": "white",
            "linecolor": "white",
            "ticks": ""
           },
           "baxis": {
            "gridcolor": "white",
            "linecolor": "white",
            "ticks": ""
           },
           "bgcolor": "#E5ECF6",
           "caxis": {
            "gridcolor": "white",
            "linecolor": "white",
            "ticks": ""
           }
          },
          "title": {
           "x": 0.05
          },
          "xaxis": {
           "automargin": true,
           "gridcolor": "white",
           "linecolor": "white",
           "ticks": "",
           "title": {
            "standoff": 15
           },
           "zerolinecolor": "white",
           "zerolinewidth": 2
          },
          "yaxis": {
           "automargin": true,
           "gridcolor": "white",
           "linecolor": "white",
           "ticks": "",
           "title": {
            "standoff": 15
           },
           "zerolinecolor": "white",
           "zerolinewidth": 2
          }
         }
        }
       }
      },
      "text/html": [
       "<div>                            <div id=\"d8114852-d601-4ad3-8cf5-7e28666114de\" class=\"plotly-graph-div\" style=\"height:525px; width:100%;\"></div>            <script type=\"text/javascript\">                require([\"plotly\"], function(Plotly) {                    window.PLOTLYENV=window.PLOTLYENV || {};                                    if (document.getElementById(\"d8114852-d601-4ad3-8cf5-7e28666114de\")) {                    Plotly.newPlot(                        \"d8114852-d601-4ad3-8cf5-7e28666114de\",                        [{\"hovertemplate\":\"color=colonel<br>0=%{x}<br>1=%{y}<br>2=%{z}<extra></extra>\",\"legendgroup\":\"colonel\",\"marker\":{\"color\":\"#636efa\",\"symbol\":\"circle\"},\"mode\":\"markers\",\"name\":\"colonel\",\"scene\":\"scene\",\"showlegend\":true,\"x\":[0.16065526008605957],\"y\":[-0.19299094378948212],\"z\":[0.10968299955129623],\"type\":\"scatter3d\"},{\"hovertemplate\":\"color=things<br>0=%{x}<br>1=%{y}<br>2=%{z}<extra></extra>\",\"legendgroup\":\"things\",\"marker\":{\"color\":\"#EF553B\",\"symbol\":\"circle\"},\"mode\":\"markers\",\"name\":\"things\",\"scene\":\"scene\",\"showlegend\":true,\"x\":[-0.2568925619125366],\"y\":[0.14523690938949585],\"z\":[0.05192435532808304],\"type\":\"scatter3d\"},{\"hovertemplate\":\"color=imagine<br>0=%{x}<br>1=%{y}<br>2=%{z}<extra></extra>\",\"legendgroup\":\"imagine\",\"marker\":{\"color\":\"#00cc96\",\"symbol\":\"circle\"},\"mode\":\"markers\",\"name\":\"imagine\",\"scene\":\"scene\",\"showlegend\":true,\"x\":[-0.27674853801727295],\"y\":[-0.24292245507240295],\"z\":[-0.086773581802845],\"type\":\"scatter3d\"},{\"hovertemplate\":\"color=floor<br>0=%{x}<br>1=%{y}<br>2=%{z}<extra></extra>\",\"legendgroup\":\"floor\",\"marker\":{\"color\":\"#ab63fa\",\"symbol\":\"circle\"},\"mode\":\"markers\",\"name\":\"floor\",\"scene\":\"scene\",\"showlegend\":true,\"x\":[0.27938634157180786],\"y\":[0.10134457796812057],\"z\":[0.23004184663295746],\"type\":\"scatter3d\"},{\"hovertemplate\":\"color=inspector<br>0=%{x}<br>1=%{y}<br>2=%{z}<extra></extra>\",\"legendgroup\":\"inspector\",\"marker\":{\"color\":\"#FFA15A\",\"symbol\":\"circle\"},\"mode\":\"markers\",\"name\":\"inspector\",\"scene\":\"scene\",\"showlegend\":true,\"x\":[-0.13714388012886047],\"y\":[-0.02157977968454361],\"z\":[-0.008133628405630589],\"type\":\"scatter3d\"},{\"hovertemplate\":\"color=past<br>0=%{x}<br>1=%{y}<br>2=%{z}<extra></extra>\",\"legendgroup\":\"past\",\"marker\":{\"color\":\"#19d3f3\",\"symbol\":\"circle\"},\"mode\":\"markers\",\"name\":\"past\",\"scene\":\"scene\",\"showlegend\":true,\"x\":[-0.007624513003975153],\"y\":[-0.2268034666776657],\"z\":[0.20756268501281738],\"type\":\"scatter3d\"},{\"hovertemplate\":\"color=rooms<br>0=%{x}<br>1=%{y}<br>2=%{z}<extra></extra>\",\"legendgroup\":\"rooms\",\"marker\":{\"color\":\"#FF6692\",\"symbol\":\"circle\"},\"mode\":\"markers\",\"name\":\"rooms\",\"scene\":\"scene\",\"showlegend\":true,\"x\":[-0.0255520511418581],\"y\":[-0.05061964690685272],\"z\":[0.260630339384079],\"type\":\"scatter3d\"},{\"hovertemplate\":\"color=coming<br>0=%{x}<br>1=%{y}<br>2=%{z}<extra></extra>\",\"legendgroup\":\"coming\",\"marker\":{\"color\":\"#B6E880\",\"symbol\":\"circle\"},\"mode\":\"markers\",\"name\":\"coming\",\"scene\":\"scene\",\"showlegend\":true,\"x\":[0.0827907919883728],\"y\":[-0.33765652775764465],\"z\":[0.3019796311855316],\"type\":\"scatter3d\"},{\"hovertemplate\":\"color=taken<br>0=%{x}<br>1=%{y}<br>2=%{z}<extra></extra>\",\"legendgroup\":\"taken\",\"marker\":{\"color\":\"#FF97FF\",\"symbol\":\"circle\"},\"mode\":\"markers\",\"name\":\"taken\",\"scene\":\"scene\",\"showlegend\":true,\"x\":[-0.07847670465707779],\"y\":[-0.1087758019566536],\"z\":[0.16898870468139648],\"type\":\"scatter3d\"},{\"hovertemplate\":\"color=office<br>0=%{x}<br>1=%{y}<br>2=%{z}<extra></extra>\",\"legendgroup\":\"office\",\"marker\":{\"color\":\"#FECB52\",\"symbol\":\"circle\"},\"mode\":\"markers\",\"name\":\"office\",\"scene\":\"scene\",\"showlegend\":true,\"x\":[-0.09135255962610245],\"y\":[-0.06610124558210373],\"z\":[0.4759218990802765],\"type\":\"scatter3d\"},{\"hovertemplate\":\"color=ago<br>0=%{x}<br>1=%{y}<br>2=%{z}<extra></extra>\",\"legendgroup\":\"ago\",\"marker\":{\"color\":\"#636efa\",\"symbol\":\"circle\"},\"mode\":\"markers\",\"name\":\"ago\",\"scene\":\"scene\",\"showlegend\":true,\"x\":[-0.2504393458366394],\"y\":[-0.07996219396591187],\"z\":[0.2651471793651581],\"type\":\"scatter3d\"},{\"hovertemplate\":\"color=husband<br>0=%{x}<br>1=%{y}<br>2=%{z}<extra></extra>\",\"legendgroup\":\"husband\",\"marker\":{\"color\":\"#EF553B\",\"symbol\":\"circle\"},\"mode\":\"markers\",\"name\":\"husband\",\"scene\":\"scene\",\"showlegend\":true,\"x\":[-0.19907425343990326],\"y\":[-0.3251365125179291],\"z\":[0.03866114467382431],\"type\":\"scatter3d\"},{\"hovertemplate\":\"color=lost<br>0=%{x}<br>1=%{y}<br>2=%{z}<extra></extra>\",\"legendgroup\":\"lost\",\"marker\":{\"color\":\"#00cc96\",\"symbol\":\"circle\"},\"mode\":\"markers\",\"name\":\"lost\",\"scene\":\"scene\",\"showlegend\":true,\"x\":[-0.29125478863716125],\"y\":[0.04369860887527466],\"z\":[-0.1835075169801712],\"type\":\"scatter3d\"},{\"hovertemplate\":\"color=want<br>0=%{x}<br>1=%{y}<br>2=%{z}<extra></extra>\",\"legendgroup\":\"want\",\"marker\":{\"color\":\"#ab63fa\",\"symbol\":\"circle\"},\"mode\":\"markers\",\"name\":\"want\",\"scene\":\"scene\",\"showlegend\":true,\"x\":[-0.3481118381023407],\"y\":[-0.15224866569042206],\"z\":[-0.0023421691730618477],\"type\":\"scatter3d\"},{\"hovertemplate\":\"color=manner<br>0=%{x}<br>1=%{y}<br>2=%{z}<extra></extra>\",\"legendgroup\":\"manner\",\"marker\":{\"color\":\"#FFA15A\",\"symbol\":\"circle\"},\"mode\":\"markers\",\"name\":\"manner\",\"scene\":\"scene\",\"showlegend\":true,\"x\":[-0.13692468404769897],\"y\":[0.15252900123596191],\"z\":[-0.46726980805397034],\"type\":\"scatter3d\"},{\"hovertemplate\":\"color=late<br>0=%{x}<br>1=%{y}<br>2=%{z}<extra></extra>\",\"legendgroup\":\"late\",\"marker\":{\"color\":\"#19d3f3\",\"symbol\":\"circle\"},\"mode\":\"markers\",\"name\":\"late\",\"scene\":\"scene\",\"showlegend\":true,\"x\":[-0.2613295018672943],\"y\":[-0.168350487947464],\"z\":[-0.013555523008108139],\"type\":\"scatter3d\"},{\"hovertemplate\":\"color=e<br>0=%{x}<br>1=%{y}<br>2=%{z}<extra></extra>\",\"legendgroup\":\"e\",\"marker\":{\"color\":\"#FF6692\",\"symbol\":\"circle\"},\"mode\":\"markers\",\"name\":\"e\",\"scene\":\"scene\",\"showlegend\":true,\"x\":[-0.14721286296844482],\"y\":[0.2236556112766266],\"z\":[0.08846645057201385],\"type\":\"scatter3d\"},{\"hovertemplate\":\"color=lamp<br>0=%{x}<br>1=%{y}<br>2=%{z}<extra></extra>\",\"legendgroup\":\"lamp\",\"marker\":{\"color\":\"#B6E880\",\"symbol\":\"circle\"},\"mode\":\"markers\",\"name\":\"lamp\",\"scene\":\"scene\",\"showlegend\":true,\"x\":[0.41956421732902527],\"y\":[-0.19699376821517944],\"z\":[0.10598576813936234],\"type\":\"scatter3d\"},{\"hovertemplate\":\"color=feet<br>0=%{x}<br>1=%{y}<br>2=%{z}<extra></extra>\",\"legendgroup\":\"feet\",\"marker\":{\"color\":\"#FF97FF\",\"symbol\":\"circle\"},\"mode\":\"markers\",\"name\":\"feet\",\"scene\":\"scene\",\"showlegend\":true,\"x\":[0.4164261221885681],\"y\":[-0.16872480511665344],\"z\":[0.17395588755607605],\"type\":\"scatter3d\"},{\"hovertemplate\":\"color=coronet<br>0=%{x}<br>1=%{y}<br>2=%{z}<extra></extra>\",\"legendgroup\":\"coronet\",\"marker\":{\"color\":\"#FECB52\",\"symbol\":\"circle\"},\"mode\":\"markers\",\"name\":\"coronet\",\"scene\":\"scene\",\"showlegend\":true,\"x\":[0.0281496774405241],\"y\":[-0.2780074179172516],\"z\":[0.016577795147895813],\"type\":\"scatter3d\"},{\"hovertemplate\":\"color=fear<br>0=%{x}<br>1=%{y}<br>2=%{z}<extra></extra>\",\"legendgroup\":\"fear\",\"marker\":{\"color\":\"#636efa\",\"symbol\":\"circle\"},\"mode\":\"markers\",\"name\":\"fear\",\"scene\":\"scene\",\"showlegend\":true,\"x\":[-0.18848061561584473],\"y\":[-0.18047674000263214],\"z\":[-0.10529909282922745],\"type\":\"scatter3d\"},{\"hovertemplate\":\"color=cry<br>0=%{x}<br>1=%{y}<br>2=%{z}<extra></extra>\",\"legendgroup\":\"cry\",\"marker\":{\"color\":\"#EF553B\",\"symbol\":\"circle\"},\"mode\":\"markers\",\"name\":\"cry\",\"scene\":\"scene\",\"showlegend\":true,\"x\":[0.16337648034095764],\"y\":[-0.23244071006774902],\"z\":[0.17574664950370789],\"type\":\"scatter3d\"},{\"hovertemplate\":\"color=station<br>0=%{x}<br>1=%{y}<br>2=%{z}<extra></extra>\",\"legendgroup\":\"station\",\"marker\":{\"color\":\"#00cc96\",\"symbol\":\"circle\"},\"mode\":\"markers\",\"name\":\"station\",\"scene\":\"scene\",\"showlegend\":true,\"x\":[0.13337533175945282],\"y\":[-0.10889384150505066],\"z\":[0.43068864941596985],\"type\":\"scatter3d\"},{\"hovertemplate\":\"color=people<br>0=%{x}<br>1=%{y}<br>2=%{z}<extra></extra>\",\"legendgroup\":\"people\",\"marker\":{\"color\":\"#ab63fa\",\"symbol\":\"circle\"},\"mode\":\"markers\",\"name\":\"people\",\"scene\":\"scene\",\"showlegend\":true,\"x\":[-0.15377534925937653],\"y\":[0.18612520396709442],\"z\":[0.1231062114238739],\"type\":\"scatter3d\"},{\"hovertemplate\":\"color=walked<br>0=%{x}<br>1=%{y}<br>2=%{z}<extra></extra>\",\"legendgroup\":\"walked\",\"marker\":{\"color\":\"#FFA15A\",\"symbol\":\"circle\"},\"mode\":\"markers\",\"name\":\"walked\",\"scene\":\"scene\",\"showlegend\":true,\"x\":[0.41209712624549866],\"y\":[-0.3258778750896454],\"z\":[0.291094571352005],\"type\":\"scatter3d\"},{\"hovertemplate\":\"color=seems<br>0=%{x}<br>1=%{y}<br>2=%{z}<extra></extra>\",\"legendgroup\":\"seems\",\"marker\":{\"color\":\"#19d3f3\",\"symbol\":\"circle\"},\"mode\":\"markers\",\"name\":\"seems\",\"scene\":\"scene\",\"showlegend\":true,\"x\":[-0.21541471779346466],\"y\":[-0.11087081581354141],\"z\":[-0.23600122332572937],\"type\":\"scatter3d\"},{\"hovertemplate\":\"color=address<br>0=%{x}<br>1=%{y}<br>2=%{z}<extra></extra>\",\"legendgroup\":\"address\",\"marker\":{\"color\":\"#FF6692\",\"symbol\":\"circle\"},\"mode\":\"markers\",\"name\":\"address\",\"scene\":\"scene\",\"showlegend\":true,\"x\":[-0.3296119272708893],\"y\":[-0.08985934406518936],\"z\":[0.19378438591957092],\"type\":\"scatter3d\"},{\"hovertemplate\":\"color=absolutely<br>0=%{x}<br>1=%{y}<br>2=%{z}<extra></extra>\",\"legendgroup\":\"absolutely\",\"marker\":{\"color\":\"#B6E880\",\"symbol\":\"circle\"},\"mode\":\"markers\",\"name\":\"absolutely\",\"scene\":\"scene\",\"showlegend\":true,\"x\":[-0.430978387594223],\"y\":[0.05043131858110428],\"z\":[-0.13720285892486572],\"type\":\"scatter3d\"},{\"hovertemplate\":\"color=holder<br>0=%{x}<br>1=%{y}<br>2=%{z}<extra></extra>\",\"legendgroup\":\"holder\",\"marker\":{\"color\":\"#FF97FF\",\"symbol\":\"circle\"},\"mode\":\"markers\",\"name\":\"holder\",\"scene\":\"scene\",\"showlegend\":true,\"x\":[-0.15880955755710602],\"y\":[0.27020981907844543],\"z\":[0.19104114174842834],\"type\":\"scatter3d\"},{\"hovertemplate\":\"color=second<br>0=%{x}<br>1=%{y}<br>2=%{z}<extra></extra>\",\"legendgroup\":\"second\",\"marker\":{\"color\":\"#FECB52\",\"symbol\":\"circle\"},\"mode\":\"markers\",\"name\":\"second\",\"scene\":\"scene\",\"showlegend\":true,\"x\":[-0.0324796587228775],\"y\":[-0.001993668731302023],\"z\":[0.23035243153572083],\"type\":\"scatter3d\"},{\"hovertemplate\":\"color=present<br>0=%{x}<br>1=%{y}<br>2=%{z}<extra></extra>\",\"legendgroup\":\"present\",\"marker\":{\"color\":\"#636efa\",\"symbol\":\"circle\"},\"mode\":\"markers\",\"name\":\"present\",\"scene\":\"scene\",\"showlegend\":true,\"x\":[-0.30427655577659607],\"y\":[0.20106716454029083],\"z\":[0.0830620527267456],\"type\":\"scatter3d\"},{\"hovertemplate\":\"color=letters<br>0=%{x}<br>1=%{y}<br>2=%{z}<extra></extra>\",\"legendgroup\":\"letters\",\"marker\":{\"color\":\"#EF553B\",\"symbol\":\"circle\"},\"mode\":\"markers\",\"name\":\"letters\",\"scene\":\"scene\",\"showlegend\":true,\"x\":[-0.16063430905342102],\"y\":[-0.0076902941800653934],\"z\":[0.1069217175245285],\"type\":\"scatter3d\"},{\"hovertemplate\":\"color=outside<br>0=%{x}<br>1=%{y}<br>2=%{z}<extra></extra>\",\"legendgroup\":\"outside\",\"marker\":{\"color\":\"#00cc96\",\"symbol\":\"circle\"},\"mode\":\"markers\",\"name\":\"outside\",\"scene\":\"scene\",\"showlegend\":true,\"x\":[0.11364526301622391],\"y\":[0.10304215550422668],\"z\":[0.06916353106498718],\"type\":\"scatter3d\"},{\"hovertemplate\":\"color=clair<br>0=%{x}<br>1=%{y}<br>2=%{z}<extra></extra>\",\"legendgroup\":\"clair\",\"marker\":{\"color\":\"#ab63fa\",\"symbol\":\"circle\"},\"mode\":\"markers\",\"name\":\"clair\",\"scene\":\"scene\",\"showlegend\":true,\"x\":[0.026655370369553566],\"y\":[-0.12543894350528717],\"z\":[0.11830560863018036],\"type\":\"scatter3d\"},{\"hovertemplate\":\"color=goose<br>0=%{x}<br>1=%{y}<br>2=%{z}<extra></extra>\",\"legendgroup\":\"goose\",\"marker\":{\"color\":\"#FFA15A\",\"symbol\":\"circle\"},\"mode\":\"markers\",\"name\":\"goose\",\"scene\":\"scene\",\"showlegend\":true,\"x\":[0.035525303333997726],\"y\":[-0.006810861639678478],\"z\":[0.23657454550266266],\"type\":\"scatter3d\"},{\"hovertemplate\":\"color=above<br>0=%{x}<br>1=%{y}<br>2=%{z}<extra></extra>\",\"legendgroup\":\"above\",\"marker\":{\"color\":\"#19d3f3\",\"symbol\":\"circle\"},\"mode\":\"markers\",\"name\":\"above\",\"scene\":\"scene\",\"showlegend\":true,\"x\":[0.09315893054008484],\"y\":[-0.010456196032464504],\"z\":[0.08970091491937637],\"type\":\"scatter3d\"},{\"hovertemplate\":\"color=air<br>0=%{x}<br>1=%{y}<br>2=%{z}<extra></extra>\",\"legendgroup\":\"air\",\"marker\":{\"color\":\"#FF6692\",\"symbol\":\"circle\"},\"mode\":\"markers\",\"name\":\"air\",\"scene\":\"scene\",\"showlegend\":true,\"x\":[0.31015825271606445],\"y\":[-0.18992003798484802],\"z\":[-0.09831391274929047],\"type\":\"scatter3d\"},{\"hovertemplate\":\"color=dress<br>0=%{x}<br>1=%{y}<br>2=%{z}<extra></extra>\",\"legendgroup\":\"dress\",\"marker\":{\"color\":\"#B6E880\",\"symbol\":\"circle\"},\"mode\":\"markers\",\"name\":\"dress\",\"scene\":\"scene\",\"showlegend\":true,\"x\":[0.1030026227235794],\"y\":[-0.0407334640622139],\"z\":[-0.17754001915454865],\"type\":\"scatter3d\"},{\"hovertemplate\":\"color=marriage<br>0=%{x}<br>1=%{y}<br>2=%{z}<extra></extra>\",\"legendgroup\":\"marriage\",\"marker\":{\"color\":\"#FF97FF\",\"symbol\":\"circle\"},\"mode\":\"markers\",\"name\":\"marriage\",\"scene\":\"scene\",\"showlegend\":true,\"x\":[-0.39457079768180847],\"y\":[-0.09403534978628159],\"z\":[0.07477132976055145],\"type\":\"scatter3d\"},{\"hovertemplate\":\"color=remember<br>0=%{x}<br>1=%{y}<br>2=%{z}<extra></extra>\",\"legendgroup\":\"remember\",\"marker\":{\"color\":\"#FECB52\",\"symbol\":\"circle\"},\"mode\":\"markers\",\"name\":\"remember\",\"scene\":\"scene\",\"showlegend\":true,\"x\":[-0.23095785081386566],\"y\":[-0.14859876036643982],\"z\":[0.11192532628774643],\"type\":\"scatter3d\"},{\"hovertemplate\":\"color=electronic<br>0=%{x}<br>1=%{y}<br>2=%{z}<extra></extra>\",\"legendgroup\":\"electronic\",\"marker\":{\"color\":\"#636efa\",\"symbol\":\"circle\"},\"mode\":\"markers\",\"name\":\"electronic\",\"scene\":\"scene\",\"showlegend\":true,\"x\":[-0.24517276883125305],\"y\":[0.4545193314552307],\"z\":[0.1665296107530594],\"type\":\"scatter3d\"},{\"hovertemplate\":\"color=spoke<br>0=%{x}<br>1=%{y}<br>2=%{z}<extra></extra>\",\"legendgroup\":\"spoke\",\"marker\":{\"color\":\"#EF553B\",\"symbol\":\"circle\"},\"mode\":\"markers\",\"name\":\"spoke\",\"scene\":\"scene\",\"showlegend\":true,\"x\":[0.1922212690114975],\"y\":[-0.39498960971832275],\"z\":[-0.17174604535102844],\"type\":\"scatter3d\"},{\"hovertemplate\":\"color=appeared<br>0=%{x}<br>1=%{y}<br>2=%{z}<extra></extra>\",\"legendgroup\":\"appeared\",\"marker\":{\"color\":\"#00cc96\",\"symbol\":\"circle\"},\"mode\":\"markers\",\"name\":\"appeared\",\"scene\":\"scene\",\"showlegend\":true,\"x\":[0.031777624040842056],\"y\":[-0.08430583029985428],\"z\":[-0.035796429961919785],\"type\":\"scatter3d\"},{\"hovertemplate\":\"color=week<br>0=%{x}<br>1=%{y}<br>2=%{z}<extra></extra>\",\"legendgroup\":\"week\",\"marker\":{\"color\":\"#ab63fa\",\"symbol\":\"circle\"},\"mode\":\"markers\",\"name\":\"week\",\"scene\":\"scene\",\"showlegend\":true,\"x\":[-0.12016845494508743],\"y\":[-0.021374555304646492],\"z\":[0.4069046080112457],\"type\":\"scatter3d\"},{\"hovertemplate\":\"color=girl<br>0=%{x}<br>1=%{y}<br>2=%{z}<extra></extra>\",\"legendgroup\":\"girl\",\"marker\":{\"color\":\"#FFA15A\",\"symbol\":\"circle\"},\"mode\":\"markers\",\"name\":\"girl\",\"scene\":\"scene\",\"showlegend\":true,\"x\":[-0.3159360885620117],\"y\":[-0.10754118859767914],\"z\":[-0.1006251871585846],\"type\":\"scatter3d\"},{\"hovertemplate\":\"color=visitor<br>0=%{x}<br>1=%{y}<br>2=%{z}<extra></extra>\",\"legendgroup\":\"visitor\",\"marker\":{\"color\":\"#19d3f3\",\"symbol\":\"circle\"},\"mode\":\"markers\",\"name\":\"visitor\",\"scene\":\"scene\",\"showlegend\":true,\"x\":[0.04519126936793327],\"y\":[-0.2872008979320526],\"z\":[-0.18293756246566772],\"type\":\"scatter3d\"},{\"hovertemplate\":\"color=alone<br>0=%{x}<br>1=%{y}<br>2=%{z}<extra></extra>\",\"legendgroup\":\"alone\",\"marker\":{\"color\":\"#FF6692\",\"symbol\":\"circle\"},\"mode\":\"markers\",\"name\":\"alone\",\"scene\":\"scene\",\"showlegend\":true,\"x\":[-0.2250102013349533],\"y\":[-0.10983237624168396],\"z\":[0.10233763605356216],\"type\":\"scatter3d\"},{\"hovertemplate\":\"color=held<br>0=%{x}<br>1=%{y}<br>2=%{z}<extra></extra>\",\"legendgroup\":\"held\",\"marker\":{\"color\":\"#B6E880\",\"symbol\":\"circle\"},\"mode\":\"markers\",\"name\":\"held\",\"scene\":\"scene\",\"showlegend\":true,\"x\":[0.2040390521287918],\"y\":[-0.15381114184856415],\"z\":[-0.13876692950725555],\"type\":\"scatter3d\"},{\"hovertemplate\":\"color=reason<br>0=%{x}<br>1=%{y}<br>2=%{z}<extra></extra>\",\"legendgroup\":\"reason\",\"marker\":{\"color\":\"#FF97FF\",\"symbol\":\"circle\"},\"mode\":\"markers\",\"name\":\"reason\",\"scene\":\"scene\",\"showlegend\":true,\"x\":[-0.43739497661590576],\"y\":[-0.14429910480976105],\"z\":[0.07459436357021332],\"type\":\"scatter3d\"},{\"hovertemplate\":\"color=thank<br>0=%{x}<br>1=%{y}<br>2=%{z}<extra></extra>\",\"legendgroup\":\"thank\",\"marker\":{\"color\":\"#FECB52\",\"symbol\":\"circle\"},\"mode\":\"markers\",\"name\":\"thank\",\"scene\":\"scene\",\"showlegend\":true,\"x\":[-0.41601699590682983],\"y\":[-0.18511086702346802],\"z\":[-0.12834687530994415],\"type\":\"scatter3d\"},{\"hovertemplate\":\"color=blue<br>0=%{x}<br>1=%{y}<br>2=%{z}<extra></extra>\",\"legendgroup\":\"blue\",\"marker\":{\"color\":\"#636efa\",\"symbol\":\"circle\"},\"mode\":\"markers\",\"name\":\"blue\",\"scene\":\"scene\",\"showlegend\":true,\"x\":[0.4528493583202362],\"y\":[0.06537888944149017],\"z\":[-0.13336530327796936],\"type\":\"scatter3d\"},{\"hovertemplate\":\"color=deep<br>0=%{x}<br>1=%{y}<br>2=%{z}<extra></extra>\",\"legendgroup\":\"deep\",\"marker\":{\"color\":\"#EF553B\",\"symbol\":\"circle\"},\"mode\":\"markers\",\"name\":\"deep\",\"scene\":\"scene\",\"showlegend\":true,\"x\":[0.2899327576160431],\"y\":[0.05300265923142433],\"z\":[-0.09813345968723297],\"type\":\"scatter3d\"},{\"hovertemplate\":\"color=mine<br>0=%{x}<br>1=%{y}<br>2=%{z}<extra></extra>\",\"legendgroup\":\"mine\",\"marker\":{\"color\":\"#00cc96\",\"symbol\":\"circle\"},\"mode\":\"markers\",\"name\":\"mine\",\"scene\":\"scene\",\"showlegend\":true,\"x\":[-0.20920529961585999],\"y\":[-0.04467245936393738],\"z\":[-0.13781893253326416],\"type\":\"scatter3d\"},{\"hovertemplate\":\"color=rose<br>0=%{x}<br>1=%{y}<br>2=%{z}<extra></extra>\",\"legendgroup\":\"rose\",\"marker\":{\"color\":\"#ab63fa\",\"symbol\":\"circle\"},\"mode\":\"markers\",\"name\":\"rose\",\"scene\":\"scene\",\"showlegend\":true,\"x\":[0.18870212137699127],\"y\":[-0.47042763233184814],\"z\":[-0.046513643115758896],\"type\":\"scatter3d\"},{\"hovertemplate\":\"color=person<br>0=%{x}<br>1=%{y}<br>2=%{z}<extra></extra>\",\"legendgroup\":\"person\",\"marker\":{\"color\":\"#FFA15A\",\"symbol\":\"circle\"},\"mode\":\"markers\",\"name\":\"person\",\"scene\":\"scene\",\"showlegend\":true,\"x\":[-0.2899242639541626],\"y\":[0.20880332589149475],\"z\":[0.046943675726652145],\"type\":\"scatter3d\"},{\"hovertemplate\":\"color=called<br>0=%{x}<br>1=%{y}<br>2=%{z}<extra></extra>\",\"legendgroup\":\"called\",\"marker\":{\"color\":\"#19d3f3\",\"symbol\":\"circle\"},\"mode\":\"markers\",\"name\":\"called\",\"scene\":\"scene\",\"showlegend\":true,\"x\":[-0.0730828046798706],\"y\":[-0.2829400897026062],\"z\":[0.31485897302627563],\"type\":\"scatter3d\"},{\"hovertemplate\":\"color=john<br>0=%{x}<br>1=%{y}<br>2=%{z}<extra></extra>\",\"legendgroup\":\"john\",\"marker\":{\"color\":\"#FF6692\",\"symbol\":\"circle\"},\"mode\":\"markers\",\"name\":\"john\",\"scene\":\"scene\",\"showlegend\":true,\"x\":[-0.02458508312702179],\"y\":[0.05016466975212097],\"z\":[-0.07792322337627411],\"type\":\"scatter3d\"},{\"hovertemplate\":\"color=king<br>0=%{x}<br>1=%{y}<br>2=%{z}<extra></extra>\",\"legendgroup\":\"king\",\"marker\":{\"color\":\"#B6E880\",\"symbol\":\"circle\"},\"mode\":\"markers\",\"name\":\"king\",\"scene\":\"scene\",\"showlegend\":true,\"x\":[-0.23372389376163483],\"y\":[0.08307255804538727],\"z\":[0.24084335565567017],\"type\":\"scatter3d\"},{\"hovertemplate\":\"color=easy<br>0=%{x}<br>1=%{y}<br>2=%{z}<extra></extra>\",\"legendgroup\":\"easy\",\"marker\":{\"color\":\"#FF97FF\",\"symbol\":\"circle\"},\"mode\":\"markers\",\"name\":\"easy\",\"scene\":\"scene\",\"showlegend\":true,\"x\":[-0.25567132234573364],\"y\":[0.003206529887393117],\"z\":[-0.2533196210861206],\"type\":\"scatter3d\"},{\"hovertemplate\":\"color=dressed<br>0=%{x}<br>1=%{y}<br>2=%{z}<extra></extra>\",\"legendgroup\":\"dressed\",\"marker\":{\"color\":\"#FECB52\",\"symbol\":\"circle\"},\"mode\":\"markers\",\"name\":\"dressed\",\"scene\":\"scene\",\"showlegend\":true,\"x\":[0.17963355779647827],\"y\":[-0.2644401788711548],\"z\":[-0.013041202910244465],\"type\":\"scatter3d\"},{\"hovertemplate\":\"color=drove<br>0=%{x}<br>1=%{y}<br>2=%{z}<extra></extra>\",\"legendgroup\":\"drove\",\"marker\":{\"color\":\"#636efa\",\"symbol\":\"circle\"},\"mode\":\"markers\",\"name\":\"drove\",\"scene\":\"scene\",\"showlegend\":true,\"x\":[0.18034052848815918],\"y\":[-0.3944057524204254],\"z\":[0.42516908049583435],\"type\":\"scatter3d\"},{\"hovertemplate\":\"color=cab<br>0=%{x}<br>1=%{y}<br>2=%{z}<extra></extra>\",\"legendgroup\":\"cab\",\"marker\":{\"color\":\"#EF553B\",\"symbol\":\"circle\"},\"mode\":\"markers\",\"name\":\"cab\",\"scene\":\"scene\",\"showlegend\":true,\"x\":[-0.0003729815944097936],\"y\":[-0.3800433874130249],\"z\":[0.44733667373657227],\"type\":\"scatter3d\"},{\"hovertemplate\":\"color=fact<br>0=%{x}<br>1=%{y}<br>2=%{z}<extra></extra>\",\"legendgroup\":\"fact\",\"marker\":{\"color\":\"#00cc96\",\"symbol\":\"circle\"},\"mode\":\"markers\",\"name\":\"fact\",\"scene\":\"scene\",\"showlegend\":true,\"x\":[-0.20753788948059082],\"y\":[0.0587640218436718],\"z\":[0.07137185335159302],\"type\":\"scatter3d\"},{\"hovertemplate\":\"color=followed<br>0=%{x}<br>1=%{y}<br>2=%{z}<extra></extra>\",\"legendgroup\":\"followed\",\"marker\":{\"color\":\"#ab63fa\",\"symbol\":\"circle\"},\"mode\":\"markers\",\"name\":\"followed\",\"scene\":\"scene\",\"showlegend\":true,\"x\":[0.07569821923971176],\"y\":[-0.25978884100914],\"z\":[0.2675217092037201],\"type\":\"scatter3d\"},{\"hovertemplate\":\"color=heart<br>0=%{x}<br>1=%{y}<br>2=%{z}<extra></extra>\",\"legendgroup\":\"heart\",\"marker\":{\"color\":\"#FFA15A\",\"symbol\":\"circle\"},\"mode\":\"markers\",\"name\":\"heart\",\"scene\":\"scene\",\"showlegend\":true,\"x\":[-0.15935544669628143],\"y\":[-0.18345654010772705],\"z\":[-0.05928836017847061],\"type\":\"scatter3d\"},{\"hovertemplate\":\"color=square<br>0=%{x}<br>1=%{y}<br>2=%{z}<extra></extra>\",\"legendgroup\":\"square\",\"marker\":{\"color\":\"#19d3f3\",\"symbol\":\"circle\"},\"mode\":\"markers\",\"name\":\"square\",\"scene\":\"scene\",\"showlegend\":true,\"x\":[0.2938055396080017],\"y\":[0.02685224451124668],\"z\":[0.2596401274204254],\"type\":\"scatter3d\"},{\"hovertemplate\":\"color=beside<br>0=%{x}<br>1=%{y}<br>2=%{z}<extra></extra>\",\"legendgroup\":\"beside\",\"marker\":{\"color\":\"#FF6692\",\"symbol\":\"circle\"},\"mode\":\"markers\",\"name\":\"beside\",\"scene\":\"scene\",\"showlegend\":true,\"x\":[0.302913635969162],\"y\":[-0.059119127690792084],\"z\":[-0.0571291446685791],\"type\":\"scatter3d\"},{\"hovertemplate\":\"color=photograph<br>0=%{x}<br>1=%{y}<br>2=%{z}<extra></extra>\",\"legendgroup\":\"photograph\",\"marker\":{\"color\":\"#B6E880\",\"symbol\":\"circle\"},\"mode\":\"markers\",\"name\":\"photograph\",\"scene\":\"scene\",\"showlegend\":true,\"x\":[-0.21534602344036102],\"y\":[-0.149947389960289],\"z\":[0.04821100831031799],\"type\":\"scatter3d\"},{\"hovertemplate\":\"color=married<br>0=%{x}<br>1=%{y}<br>2=%{z}<extra></extra>\",\"legendgroup\":\"married\",\"marker\":{\"color\":\"#FF97FF\",\"symbol\":\"circle\"},\"mode\":\"markers\",\"name\":\"married\",\"scene\":\"scene\",\"showlegend\":true,\"x\":[-0.2570168077945709],\"y\":[-0.20110470056533813],\"z\":[0.045922521501779556],\"type\":\"scatter3d\"},{\"hovertemplate\":\"color=bell<br>0=%{x}<br>1=%{y}<br>2=%{z}<extra></extra>\",\"legendgroup\":\"bell\",\"marker\":{\"color\":\"#FECB52\",\"symbol\":\"circle\"},\"mode\":\"markers\",\"name\":\"bell\",\"scene\":\"scene\",\"showlegend\":true,\"x\":[0.07047057151794434],\"y\":[-0.22067150473594666],\"z\":[0.024334877729415894],\"type\":\"scatter3d\"},{\"hovertemplate\":\"color=foundation<br>0=%{x}<br>1=%{y}<br>2=%{z}<extra></extra>\",\"legendgroup\":\"foundation\",\"marker\":{\"color\":\"#636efa\",\"symbol\":\"circle\"},\"mode\":\"markers\",\"name\":\"foundation\",\"scene\":\"scene\",\"showlegend\":true,\"x\":[-0.08833372592926025],\"y\":[0.34569039940834045],\"z\":[0.07926048338413239],\"type\":\"scatter3d\"},{\"hovertemplate\":\"color=quick<br>0=%{x}<br>1=%{y}<br>2=%{z}<extra></extra>\",\"legendgroup\":\"quick\",\"marker\":{\"color\":\"#EF553B\",\"symbol\":\"circle\"},\"mode\":\"markers\",\"name\":\"quick\",\"scene\":\"scene\",\"showlegend\":true,\"x\":[0.04198487475514412],\"y\":[-0.10981772094964981],\"z\":[-0.2783808410167694],\"type\":\"scatter3d\"},{\"hovertemplate\":\"color=led<br>0=%{x}<br>1=%{y}<br>2=%{z}<extra></extra>\",\"legendgroup\":\"led\",\"marker\":{\"color\":\"#00cc96\",\"symbol\":\"circle\"},\"mode\":\"markers\",\"name\":\"led\",\"scene\":\"scene\",\"showlegend\":true,\"x\":[0.25650376081466675],\"y\":[-0.12649793922901154],\"z\":[0.32409197092056274],\"type\":\"scatter3d\"},{\"hovertemplate\":\"color=steps<br>0=%{x}<br>1=%{y}<br>2=%{z}<extra></extra>\",\"legendgroup\":\"steps\",\"marker\":{\"color\":\"#ab63fa\",\"symbol\":\"circle\"},\"mode\":\"markers\",\"name\":\"steps\",\"scene\":\"scene\",\"showlegend\":true,\"x\":[0.03623760864138603],\"y\":[-0.16362126171588898],\"z\":[0.32206764817237854],\"type\":\"scatter3d\"},{\"hovertemplate\":\"color=chance<br>0=%{x}<br>1=%{y}<br>2=%{z}<extra></extra>\",\"legendgroup\":\"chance\",\"marker\":{\"color\":\"#FFA15A\",\"symbol\":\"circle\"},\"mode\":\"markers\",\"name\":\"chance\",\"scene\":\"scene\",\"showlegend\":true,\"x\":[-0.25834035873413086],\"y\":[-0.21455422043800354],\"z\":[0.25336217880249023],\"type\":\"scatter3d\"},{\"hovertemplate\":\"color=windows<br>0=%{x}<br>1=%{y}<br>2=%{z}<extra></extra>\",\"legendgroup\":\"windows\",\"marker\":{\"color\":\"#19d3f3\",\"symbol\":\"circle\"},\"mode\":\"markers\",\"name\":\"windows\",\"scene\":\"scene\",\"showlegend\":true,\"x\":[0.37413695454597473],\"y\":[0.11925837397575378],\"z\":[0.26754605770111084],\"type\":\"scatter3d\"},{\"hovertemplate\":\"color=began<br>0=%{x}<br>1=%{y}<br>2=%{z}<extra></extra>\",\"legendgroup\":\"began\",\"marker\":{\"color\":\"#FF6692\",\"symbol\":\"circle\"},\"mode\":\"markers\",\"name\":\"began\",\"scene\":\"scene\",\"showlegend\":true,\"x\":[0.12484900653362274],\"y\":[-0.4129275679588318],\"z\":[0.028159575536847115],\"type\":\"scatter3d\"},{\"hovertemplate\":\"color=silence<br>0=%{x}<br>1=%{y}<br>2=%{z}<extra></extra>\",\"legendgroup\":\"silence\",\"marker\":{\"color\":\"#B6E880\",\"symbol\":\"circle\"},\"mode\":\"markers\",\"name\":\"silence\",\"scene\":\"scene\",\"showlegend\":true,\"x\":[0.1811690628528595],\"y\":[-0.26603958010673523],\"z\":[0.12764255702495575],\"type\":\"scatter3d\"},{\"hovertemplate\":\"color=because<br>0=%{x}<br>1=%{y}<br>2=%{z}<extra></extra>\",\"legendgroup\":\"because\",\"marker\":{\"color\":\"#FF97FF\",\"symbol\":\"circle\"},\"mode\":\"markers\",\"name\":\"because\",\"scene\":\"scene\",\"showlegend\":true,\"x\":[-0.4668569266796112],\"y\":[-0.12074501067399979],\"z\":[0.00372520019300282],\"type\":\"scatter3d\"},{\"hovertemplate\":\"color=headed<br>0=%{x}<br>1=%{y}<br>2=%{z}<extra></extra>\",\"legendgroup\":\"headed\",\"marker\":{\"color\":\"#FECB52\",\"symbol\":\"circle\"},\"mode\":\"markers\",\"name\":\"headed\",\"scene\":\"scene\",\"showlegend\":true,\"x\":[0.030276942998170853],\"y\":[0.10079006850719452],\"z\":[-0.10942555963993073],\"type\":\"scatter3d\"},{\"hovertemplate\":\"color=struck<br>0=%{x}<br>1=%{y}<br>2=%{z}<extra></extra>\",\"legendgroup\":\"struck\",\"marker\":{\"color\":\"#636efa\",\"symbol\":\"circle\"},\"mode\":\"markers\",\"name\":\"struck\",\"scene\":\"scene\",\"showlegend\":true,\"x\":[0.16621041297912598],\"y\":[-0.22415052354335785],\"z\":[-0.024840401485562325],\"type\":\"scatter3d\"},{\"hovertemplate\":\"color=eye<br>0=%{x}<br>1=%{y}<br>2=%{z}<extra></extra>\",\"legendgroup\":\"eye\",\"marker\":{\"color\":\"#EF553B\",\"symbol\":\"circle\"},\"mode\":\"markers\",\"name\":\"eye\",\"scene\":\"scene\",\"showlegend\":true,\"x\":[0.11982826143503189],\"y\":[-0.20603443682193756],\"z\":[-0.14115439355373383],\"type\":\"scatter3d\"},{\"hovertemplate\":\"color=grey<br>0=%{x}<br>1=%{y}<br>2=%{z}<extra></extra>\",\"legendgroup\":\"grey\",\"marker\":{\"color\":\"#00cc96\",\"symbol\":\"circle\"},\"mode\":\"markers\",\"name\":\"grey\",\"scene\":\"scene\",\"showlegend\":true,\"x\":[0.5343090891838074],\"y\":[0.20058506727218628],\"z\":[-0.1285821497440338],\"type\":\"scatter3d\"},{\"hovertemplate\":\"color=likely<br>0=%{x}<br>1=%{y}<br>2=%{z}<extra></extra>\",\"legendgroup\":\"likely\",\"marker\":{\"color\":\"#ab63fa\",\"symbol\":\"circle\"},\"mode\":\"markers\",\"name\":\"likely\",\"scene\":\"scene\",\"showlegend\":true,\"x\":[-0.34763339161872864],\"y\":[0.029158925637602806],\"z\":[-0.09495905786752701],\"type\":\"scatter3d\"},{\"hovertemplate\":\"color=twenty<br>0=%{x}<br>1=%{y}<br>2=%{z}<extra></extra>\",\"legendgroup\":\"twenty\",\"marker\":{\"color\":\"#FFA15A\",\"symbol\":\"circle\"},\"mode\":\"markers\",\"name\":\"twenty\",\"scene\":\"scene\",\"showlegend\":true,\"x\":[-0.09617532044649124],\"y\":[-0.07089889049530029],\"z\":[0.1143299788236618],\"type\":\"scatter3d\"},{\"hovertemplate\":\"color=started<br>0=%{x}<br>1=%{y}<br>2=%{z}<extra></extra>\",\"legendgroup\":\"started\",\"marker\":{\"color\":\"#19d3f3\",\"symbol\":\"circle\"},\"mode\":\"markers\",\"name\":\"started\",\"scene\":\"scene\",\"showlegend\":true,\"x\":[-0.019227268174290657],\"y\":[-0.24593603610992432],\"z\":[0.3479352593421936],\"type\":\"scatter3d\"},{\"hovertemplate\":\"color=attention<br>0=%{x}<br>1=%{y}<br>2=%{z}<extra></extra>\",\"legendgroup\":\"attention\",\"marker\":{\"color\":\"#FF6692\",\"symbol\":\"circle\"},\"mode\":\"markers\",\"name\":\"attention\",\"scene\":\"scene\",\"showlegend\":true,\"x\":[-0.20365118980407715],\"y\":[0.07970970124006271],\"z\":[-0.031570643186569214],\"type\":\"scatter3d\"},{\"hovertemplate\":\"color=bird<br>0=%{x}<br>1=%{y}<br>2=%{z}<extra></extra>\",\"legendgroup\":\"bird\",\"marker\":{\"color\":\"#B6E880\",\"symbol\":\"circle\"},\"mode\":\"markers\",\"name\":\"bird\",\"scene\":\"scene\",\"showlegend\":true,\"x\":[-0.07368578016757965],\"y\":[-0.04224911704659462],\"z\":[0.0515749454498291],\"type\":\"scatter3d\"},{\"hovertemplate\":\"color=terms<br>0=%{x}<br>1=%{y}<br>2=%{z}<extra></extra>\",\"legendgroup\":\"terms\",\"marker\":{\"color\":\"#FF97FF\",\"symbol\":\"circle\"},\"mode\":\"markers\",\"name\":\"terms\",\"scene\":\"scene\",\"showlegend\":true,\"x\":[-0.22054095566272736],\"y\":[0.4045864939689636],\"z\":[0.16768813133239746],\"type\":\"scatter3d\"},{\"hovertemplate\":\"color=public<br>0=%{x}<br>1=%{y}<br>2=%{z}<extra></extra>\",\"legendgroup\":\"public\",\"marker\":{\"color\":\"#FECB52\",\"symbol\":\"circle\"},\"mode\":\"markers\",\"name\":\"public\",\"scene\":\"scene\",\"showlegend\":true,\"x\":[-0.19477282464504242],\"y\":[0.3085714280605316],\"z\":[-0.02996603026986122],\"type\":\"scatter3d\"},{\"hovertemplate\":\"color=next<br>0=%{x}<br>1=%{y}<br>2=%{z}<extra></extra>\",\"legendgroup\":\"next\",\"marker\":{\"color\":\"#636efa\",\"symbol\":\"circle\"},\"mode\":\"markers\",\"name\":\"next\",\"scene\":\"scene\",\"showlegend\":true,\"x\":[-0.130361869931221],\"y\":[-0.1552673876285553],\"z\":[0.2546207010746002],\"type\":\"scatter3d\"},{\"hovertemplate\":\"color=step<br>0=%{x}<br>1=%{y}<br>2=%{z}<extra></extra>\",\"legendgroup\":\"step\",\"marker\":{\"color\":\"#EF553B\",\"symbol\":\"circle\"},\"mode\":\"markers\",\"name\":\"step\",\"scene\":\"scene\",\"showlegend\":true,\"x\":[0.15570908784866333],\"y\":[-0.3483055531978607],\"z\":[-0.04058733209967613],\"type\":\"scatter3d\"},{\"hovertemplate\":\"color=nature<br>0=%{x}<br>1=%{y}<br>2=%{z}<extra></extra>\",\"legendgroup\":\"nature\",\"marker\":{\"color\":\"#00cc96\",\"symbol\":\"circle\"},\"mode\":\"markers\",\"name\":\"nature\",\"scene\":\"scene\",\"showlegend\":true,\"x\":[-0.12807786464691162],\"y\":[0.1119157075881958],\"z\":[-0.16755692660808563],\"type\":\"scatter3d\"},{\"hovertemplate\":\"color=ready<br>0=%{x}<br>1=%{y}<br>2=%{z}<extra></extra>\",\"legendgroup\":\"ready\",\"marker\":{\"color\":\"#ab63fa\",\"symbol\":\"circle\"},\"mode\":\"markers\",\"name\":\"ready\",\"scene\":\"scene\",\"showlegend\":true,\"x\":[-0.23458704352378845],\"y\":[-0.07453276962041855],\"z\":[-0.02896377071738243],\"type\":\"scatter3d\"},{\"hovertemplate\":\"color=arthur<br>0=%{x}<br>1=%{y}<br>2=%{z}<extra></extra>\",\"legendgroup\":\"arthur\",\"marker\":{\"color\":\"#FFA15A\",\"symbol\":\"circle\"},\"mode\":\"markers\",\"name\":\"arthur\",\"scene\":\"scene\",\"showlegend\":true,\"x\":[-0.16585533320903778],\"y\":[-0.2207356095314026],\"z\":[-0.01806490868330002],\"type\":\"scatter3d\"},{\"hovertemplate\":\"color=cases<br>0=%{x}<br>1=%{y}<br>2=%{z}<extra></extra>\",\"legendgroup\":\"cases\",\"marker\":{\"color\":\"#19d3f3\",\"symbol\":\"circle\"},\"mode\":\"markers\",\"name\":\"cases\",\"scene\":\"scene\",\"showlegend\":true,\"x\":[-0.3581071197986603],\"y\":[0.14171123504638672],\"z\":[0.08329584449529648],\"type\":\"scatter3d\"},{\"hovertemplate\":\"color=states<br>0=%{x}<br>1=%{y}<br>2=%{z}<extra></extra>\",\"legendgroup\":\"states\",\"marker\":{\"color\":\"#FF6692\",\"symbol\":\"circle\"},\"mode\":\"markers\",\"name\":\"states\",\"scene\":\"scene\",\"showlegend\":true,\"x\":[-0.21068142354488373],\"y\":[0.3841753602027893],\"z\":[0.30961430072784424],\"type\":\"scatter3d\"},{\"hovertemplate\":\"color=passage<br>0=%{x}<br>1=%{y}<br>2=%{z}<extra></extra>\",\"legendgroup\":\"passage\",\"marker\":{\"color\":\"#B6E880\",\"symbol\":\"circle\"},\"mode\":\"markers\",\"name\":\"passage\",\"scene\":\"scene\",\"showlegend\":true,\"x\":[0.4101574420928955],\"y\":[-0.29180991649627686],\"z\":[0.3237808644771576],\"type\":\"scatter3d\"},{\"hovertemplate\":\"color=standing<br>0=%{x}<br>1=%{y}<br>2=%{z}<extra></extra>\",\"legendgroup\":\"standing\",\"marker\":{\"color\":\"#FF97FF\",\"symbol\":\"circle\"},\"mode\":\"markers\",\"name\":\"standing\",\"scene\":\"scene\",\"showlegend\":true,\"x\":[0.42218130826950073],\"y\":[-0.22986505925655365],\"z\":[-0.011198502965271473],\"type\":\"scatter3d\"},{\"hovertemplate\":\"color=whose<br>0=%{x}<br>1=%{y}<br>2=%{z}<extra></extra>\",\"legendgroup\":\"whose\",\"marker\":{\"color\":\"#FECB52\",\"symbol\":\"circle\"},\"mode\":\"markers\",\"name\":\"whose\",\"scene\":\"scene\",\"showlegend\":true,\"x\":[0.07297038286924362],\"y\":[0.04042418301105499],\"z\":[-0.2786618173122406],\"type\":\"scatter3d\"}],                        {\"template\":{\"data\":{\"histogram2dcontour\":[{\"type\":\"histogram2dcontour\",\"colorbar\":{\"outlinewidth\":0,\"ticks\":\"\"},\"colorscale\":[[0.0,\"#0d0887\"],[0.1111111111111111,\"#46039f\"],[0.2222222222222222,\"#7201a8\"],[0.3333333333333333,\"#9c179e\"],[0.4444444444444444,\"#bd3786\"],[0.5555555555555556,\"#d8576b\"],[0.6666666666666666,\"#ed7953\"],[0.7777777777777778,\"#fb9f3a\"],[0.8888888888888888,\"#fdca26\"],[1.0,\"#f0f921\"]]}],\"choropleth\":[{\"type\":\"choropleth\",\"colorbar\":{\"outlinewidth\":0,\"ticks\":\"\"}}],\"histogram2d\":[{\"type\":\"histogram2d\",\"colorbar\":{\"outlinewidth\":0,\"ticks\":\"\"},\"colorscale\":[[0.0,\"#0d0887\"],[0.1111111111111111,\"#46039f\"],[0.2222222222222222,\"#7201a8\"],[0.3333333333333333,\"#9c179e\"],[0.4444444444444444,\"#bd3786\"],[0.5555555555555556,\"#d8576b\"],[0.6666666666666666,\"#ed7953\"],[0.7777777777777778,\"#fb9f3a\"],[0.8888888888888888,\"#fdca26\"],[1.0,\"#f0f921\"]]}],\"heatmap\":[{\"type\":\"heatmap\",\"colorbar\":{\"outlinewidth\":0,\"ticks\":\"\"},\"colorscale\":[[0.0,\"#0d0887\"],[0.1111111111111111,\"#46039f\"],[0.2222222222222222,\"#7201a8\"],[0.3333333333333333,\"#9c179e\"],[0.4444444444444444,\"#bd3786\"],[0.5555555555555556,\"#d8576b\"],[0.6666666666666666,\"#ed7953\"],[0.7777777777777778,\"#fb9f3a\"],[0.8888888888888888,\"#fdca26\"],[1.0,\"#f0f921\"]]}],\"heatmapgl\":[{\"type\":\"heatmapgl\",\"colorbar\":{\"outlinewidth\":0,\"ticks\":\"\"},\"colorscale\":[[0.0,\"#0d0887\"],[0.1111111111111111,\"#46039f\"],[0.2222222222222222,\"#7201a8\"],[0.3333333333333333,\"#9c179e\"],[0.4444444444444444,\"#bd3786\"],[0.5555555555555556,\"#d8576b\"],[0.6666666666666666,\"#ed7953\"],[0.7777777777777778,\"#fb9f3a\"],[0.8888888888888888,\"#fdca26\"],[1.0,\"#f0f921\"]]}],\"contourcarpet\":[{\"type\":\"contourcarpet\",\"colorbar\":{\"outlinewidth\":0,\"ticks\":\"\"}}],\"contour\":[{\"type\":\"contour\",\"colorbar\":{\"outlinewidth\":0,\"ticks\":\"\"},\"colorscale\":[[0.0,\"#0d0887\"],[0.1111111111111111,\"#46039f\"],[0.2222222222222222,\"#7201a8\"],[0.3333333333333333,\"#9c179e\"],[0.4444444444444444,\"#bd3786\"],[0.5555555555555556,\"#d8576b\"],[0.6666666666666666,\"#ed7953\"],[0.7777777777777778,\"#fb9f3a\"],[0.8888888888888888,\"#fdca26\"],[1.0,\"#f0f921\"]]}],\"surface\":[{\"type\":\"surface\",\"colorbar\":{\"outlinewidth\":0,\"ticks\":\"\"},\"colorscale\":[[0.0,\"#0d0887\"],[0.1111111111111111,\"#46039f\"],[0.2222222222222222,\"#7201a8\"],[0.3333333333333333,\"#9c179e\"],[0.4444444444444444,\"#bd3786\"],[0.5555555555555556,\"#d8576b\"],[0.6666666666666666,\"#ed7953\"],[0.7777777777777778,\"#fb9f3a\"],[0.8888888888888888,\"#fdca26\"],[1.0,\"#f0f921\"]]}],\"mesh3d\":[{\"type\":\"mesh3d\",\"colorbar\":{\"outlinewidth\":0,\"ticks\":\"\"}}],\"scatter\":[{\"fillpattern\":{\"fillmode\":\"overlay\",\"size\":10,\"solidity\":0.2},\"type\":\"scatter\"}],\"parcoords\":[{\"type\":\"parcoords\",\"line\":{\"colorbar\":{\"outlinewidth\":0,\"ticks\":\"\"}}}],\"scatterpolargl\":[{\"type\":\"scatterpolargl\",\"marker\":{\"colorbar\":{\"outlinewidth\":0,\"ticks\":\"\"}}}],\"bar\":[{\"error_x\":{\"color\":\"#2a3f5f\"},\"error_y\":{\"color\":\"#2a3f5f\"},\"marker\":{\"line\":{\"color\":\"#E5ECF6\",\"width\":0.5},\"pattern\":{\"fillmode\":\"overlay\",\"size\":10,\"solidity\":0.2}},\"type\":\"bar\"}],\"scattergeo\":[{\"type\":\"scattergeo\",\"marker\":{\"colorbar\":{\"outlinewidth\":0,\"ticks\":\"\"}}}],\"scatterpolar\":[{\"type\":\"scatterpolar\",\"marker\":{\"colorbar\":{\"outlinewidth\":0,\"ticks\":\"\"}}}],\"histogram\":[{\"marker\":{\"pattern\":{\"fillmode\":\"overlay\",\"size\":10,\"solidity\":0.2}},\"type\":\"histogram\"}],\"scattergl\":[{\"type\":\"scattergl\",\"marker\":{\"colorbar\":{\"outlinewidth\":0,\"ticks\":\"\"}}}],\"scatter3d\":[{\"type\":\"scatter3d\",\"line\":{\"colorbar\":{\"outlinewidth\":0,\"ticks\":\"\"}},\"marker\":{\"colorbar\":{\"outlinewidth\":0,\"ticks\":\"\"}}}],\"scattermapbox\":[{\"type\":\"scattermapbox\",\"marker\":{\"colorbar\":{\"outlinewidth\":0,\"ticks\":\"\"}}}],\"scatterternary\":[{\"type\":\"scatterternary\",\"marker\":{\"colorbar\":{\"outlinewidth\":0,\"ticks\":\"\"}}}],\"scattercarpet\":[{\"type\":\"scattercarpet\",\"marker\":{\"colorbar\":{\"outlinewidth\":0,\"ticks\":\"\"}}}],\"carpet\":[{\"aaxis\":{\"endlinecolor\":\"#2a3f5f\",\"gridcolor\":\"white\",\"linecolor\":\"white\",\"minorgridcolor\":\"white\",\"startlinecolor\":\"#2a3f5f\"},\"baxis\":{\"endlinecolor\":\"#2a3f5f\",\"gridcolor\":\"white\",\"linecolor\":\"white\",\"minorgridcolor\":\"white\",\"startlinecolor\":\"#2a3f5f\"},\"type\":\"carpet\"}],\"table\":[{\"cells\":{\"fill\":{\"color\":\"#EBF0F8\"},\"line\":{\"color\":\"white\"}},\"header\":{\"fill\":{\"color\":\"#C8D4E3\"},\"line\":{\"color\":\"white\"}},\"type\":\"table\"}],\"barpolar\":[{\"marker\":{\"line\":{\"color\":\"#E5ECF6\",\"width\":0.5},\"pattern\":{\"fillmode\":\"overlay\",\"size\":10,\"solidity\":0.2}},\"type\":\"barpolar\"}],\"pie\":[{\"automargin\":true,\"type\":\"pie\"}]},\"layout\":{\"autotypenumbers\":\"strict\",\"colorway\":[\"#636efa\",\"#EF553B\",\"#00cc96\",\"#ab63fa\",\"#FFA15A\",\"#19d3f3\",\"#FF6692\",\"#B6E880\",\"#FF97FF\",\"#FECB52\"],\"font\":{\"color\":\"#2a3f5f\"},\"hovermode\":\"closest\",\"hoverlabel\":{\"align\":\"left\"},\"paper_bgcolor\":\"white\",\"plot_bgcolor\":\"#E5ECF6\",\"polar\":{\"bgcolor\":\"#E5ECF6\",\"angularaxis\":{\"gridcolor\":\"white\",\"linecolor\":\"white\",\"ticks\":\"\"},\"radialaxis\":{\"gridcolor\":\"white\",\"linecolor\":\"white\",\"ticks\":\"\"}},\"ternary\":{\"bgcolor\":\"#E5ECF6\",\"aaxis\":{\"gridcolor\":\"white\",\"linecolor\":\"white\",\"ticks\":\"\"},\"baxis\":{\"gridcolor\":\"white\",\"linecolor\":\"white\",\"ticks\":\"\"},\"caxis\":{\"gridcolor\":\"white\",\"linecolor\":\"white\",\"ticks\":\"\"}},\"coloraxis\":{\"colorbar\":{\"outlinewidth\":0,\"ticks\":\"\"}},\"colorscale\":{\"sequential\":[[0.0,\"#0d0887\"],[0.1111111111111111,\"#46039f\"],[0.2222222222222222,\"#7201a8\"],[0.3333333333333333,\"#9c179e\"],[0.4444444444444444,\"#bd3786\"],[0.5555555555555556,\"#d8576b\"],[0.6666666666666666,\"#ed7953\"],[0.7777777777777778,\"#fb9f3a\"],[0.8888888888888888,\"#fdca26\"],[1.0,\"#f0f921\"]],\"sequentialminus\":[[0.0,\"#0d0887\"],[0.1111111111111111,\"#46039f\"],[0.2222222222222222,\"#7201a8\"],[0.3333333333333333,\"#9c179e\"],[0.4444444444444444,\"#bd3786\"],[0.5555555555555556,\"#d8576b\"],[0.6666666666666666,\"#ed7953\"],[0.7777777777777778,\"#fb9f3a\"],[0.8888888888888888,\"#fdca26\"],[1.0,\"#f0f921\"]],\"diverging\":[[0,\"#8e0152\"],[0.1,\"#c51b7d\"],[0.2,\"#de77ae\"],[0.3,\"#f1b6da\"],[0.4,\"#fde0ef\"],[0.5,\"#f7f7f7\"],[0.6,\"#e6f5d0\"],[0.7,\"#b8e186\"],[0.8,\"#7fbc41\"],[0.9,\"#4d9221\"],[1,\"#276419\"]]},\"xaxis\":{\"gridcolor\":\"white\",\"linecolor\":\"white\",\"ticks\":\"\",\"title\":{\"standoff\":15},\"zerolinecolor\":\"white\",\"automargin\":true,\"zerolinewidth\":2},\"yaxis\":{\"gridcolor\":\"white\",\"linecolor\":\"white\",\"ticks\":\"\",\"title\":{\"standoff\":15},\"zerolinecolor\":\"white\",\"automargin\":true,\"zerolinewidth\":2},\"scene\":{\"xaxis\":{\"backgroundcolor\":\"#E5ECF6\",\"gridcolor\":\"white\",\"linecolor\":\"white\",\"showbackground\":true,\"ticks\":\"\",\"zerolinecolor\":\"white\",\"gridwidth\":2},\"yaxis\":{\"backgroundcolor\":\"#E5ECF6\",\"gridcolor\":\"white\",\"linecolor\":\"white\",\"showbackground\":true,\"ticks\":\"\",\"zerolinecolor\":\"white\",\"gridwidth\":2},\"zaxis\":{\"backgroundcolor\":\"#E5ECF6\",\"gridcolor\":\"white\",\"linecolor\":\"white\",\"showbackground\":true,\"ticks\":\"\",\"zerolinecolor\":\"white\",\"gridwidth\":2}},\"shapedefaults\":{\"line\":{\"color\":\"#2a3f5f\"}},\"annotationdefaults\":{\"arrowcolor\":\"#2a3f5f\",\"arrowhead\":0,\"arrowwidth\":1},\"geo\":{\"bgcolor\":\"white\",\"landcolor\":\"#E5ECF6\",\"subunitcolor\":\"white\",\"showland\":true,\"showlakes\":true,\"lakecolor\":\"white\"},\"title\":{\"x\":0.05},\"mapbox\":{\"style\":\"light\"}}},\"scene\":{\"domain\":{\"x\":[0.0,1.0],\"y\":[0.0,1.0]},\"xaxis\":{\"title\":{\"text\":\"0\"}},\"yaxis\":{\"title\":{\"text\":\"1\"}},\"zaxis\":{\"title\":{\"text\":\"2\"}}},\"legend\":{\"title\":{\"text\":\"color\"},\"tracegroupgap\":0},\"margin\":{\"t\":60}},                        {\"responsive\": true}                    ).then(function(){\n",
       "                            \n",
       "var gd = document.getElementById('d8114852-d601-4ad3-8cf5-7e28666114de');\n",
       "var x = new MutationObserver(function (mutations, observer) {{\n",
       "        var display = window.getComputedStyle(gd).display;\n",
       "        if (!display || display === 'none') {{\n",
       "            console.log([gd, 'removed!']);\n",
       "            Plotly.purge(gd);\n",
       "            observer.disconnect();\n",
       "        }}\n",
       "}});\n",
       "\n",
       "// Listen for the removal of the full notebook cells\n",
       "var notebookContainer = gd.closest('#notebook-container');\n",
       "if (notebookContainer) {{\n",
       "    x.observe(notebookContainer, {childList: true});\n",
       "}}\n",
       "\n",
       "// Listen for the clearing of the current output cell\n",
       "var outputEl = gd.closest('.output');\n",
       "if (outputEl) {{\n",
       "    x.observe(outputEl, {childList: true});\n",
       "}}\n",
       "\n",
       "                        })                };                });            </script>        </div>"
      ]
     },
     "metadata": {},
     "output_type": "display_data"
    }
   ],
   "source": [
    "#Plotting words on a 3-d hyperplane\n",
    "fig=px.scatter_3d(X[400:500],x=0,y=1,z=2,color=model_word.wv.index_to_key[400:500])\n",
    "fig.show()"
   ]
  },
  {
   "cell_type": "markdown",
   "id": "162809c5",
   "metadata": {},
   "source": [
    "## Building LSTM model to predict next word"
   ]
  },
  {
   "cell_type": "markdown",
   "id": "31c33a6a",
   "metadata": {},
   "source": [
    "\n",
    "Long Short-Term Memory Networks is a deep learning, sequential neural network that allows information to persist. \n",
    "\n",
    "It is a special type of Recurrent Neural Network which is capable of handling the vanishing gradient problem faced by RNN.\n",
    "\n",
    "LSTM was designed by Hochreiter and Schmidhuber that resolves the problem caused by traditional rnns and machine learning algorithms. \n",
    "\n",
    "LSTM can be implemented in Python using the Keras library."
   ]
  },
  {
   "cell_type": "code",
   "execution_count": 62,
   "id": "78d4a324",
   "metadata": {},
   "outputs": [],
   "source": [
    "model=Sequential([\n",
    "    Embedding(8083,output_dim=300,input_length=max_len-1,weights=[emb_matrix],trainable=False),\n",
    "    LSTM(150),\n",
    "    Dense(8083,activation='relu'),\n",
    "    Dense(8083,activation='softmax')\n",
    "])\n",
    "model.compile(loss='categorical_crossentropy', optimizer='adam',metrics=['accuracy'])"
   ]
  },
  {
   "cell_type": "code",
   "execution_count": 72,
   "id": "cb3d60e1",
   "metadata": {},
   "outputs": [
    {
     "name": "stdout",
     "output_type": "stream",
     "text": [
      "Model: \"sequential\"\n",
      "_________________________________________________________________\n",
      " Layer (type)                Output Shape              Param #   \n",
      "=================================================================\n",
      " embedding (Embedding)       (None, 104, 300)          2424900   \n",
      "                                                                 \n",
      " lstm (LSTM)                 (None, 150)               270600    \n",
      "                                                                 \n",
      " dense (Dense)               (None, 8083)              1220533   \n",
      "                                                                 \n",
      " dense_1 (Dense)             (None, 8083)              65342972  \n",
      "                                                                 \n",
      "=================================================================\n",
      "Total params: 69,259,005\n",
      "Trainable params: 66,834,105\n",
      "Non-trainable params: 2,424,900\n",
      "_________________________________________________________________\n"
     ]
    }
   ],
   "source": [
    "#layers in our Lstm\n",
    "model.summary()"
   ]
  },
  {
   "cell_type": "markdown",
   "id": "d2cac8c9",
   "metadata": {},
   "source": [
    "#### Note: Since training a LSTM model on a huge dataset takes alot of time therefore for training the model i used google colab free gpu to train the model with 300 epochs"
   ]
  },
  {
   "cell_type": "code",
   "execution_count": 65,
   "id": "e74dda2f",
   "metadata": {},
   "outputs": [],
   "source": [
    "\n",
    "#model.fit(X,Y,epochs=300)\n",
    "model.load_weights('model2_1.h5')"
   ]
  },
  {
   "cell_type": "markdown",
   "id": "9e47eca0",
   "metadata": {},
   "source": [
    "### Predicting the next 20 words using our Model"
   ]
  },
  {
   "cell_type": "code",
   "execution_count": 77,
   "id": "3131d708",
   "metadata": {},
   "outputs": [
    {
     "name": "stdout",
     "output_type": "stream",
     "text": [
      "a man entered  who\n",
      "a man entered  who could\n",
      "a man entered  who could hardly\n",
      "a man entered  who could hardly have\n",
      "a man entered  who could hardly have been\n",
      "a man entered  who could hardly have been less\n",
      "a man entered  who could hardly have been less than\n",
      "a man entered  who could hardly have been less than six\n",
      "a man entered  who could hardly have been less than six feet\n",
      "a man entered  who could hardly have been less than six feet six\n",
      "a man entered  who could hardly have been less than six feet six inches\n",
      "a man entered  who could hardly have been less than six feet six inches in\n",
      "a man entered  who could hardly have been less than six feet six inches in height\n",
      "a man entered  who could hardly have been less than six feet six inches in height with\n",
      "a man entered  who could hardly have been less than six feet six inches in height with the\n",
      "a man entered  who could hardly have been less than six feet six inches in height with the chest\n",
      "a man entered  who could hardly have been less than six feet six inches in height with the chest and\n",
      "a man entered  who could hardly have been less than six feet six inches in height with the chest and limbs\n",
      "a man entered  who could hardly have been less than six feet six inches in height with the chest and limbs of\n",
      "a man entered  who could hardly have been less than six feet six inches in height with the chest and limbs of a\n"
     ]
    }
   ],
   "source": [
    "#TO predict:\n",
    "predict_text='a man entered '\n",
    "string_text=predict_text+\" \"\n",
    "for i in range(20):\n",
    "    pred_token=token.texts_to_sequences([predict_text.split(' ')])[0]\n",
    "    pred_X=pad_sequences([pred_token],maxlen=max_len-1,padding='pre')\n",
    "    index=np.argmax(model.predict(pred_X,verbose=0))\n",
    "    predict_text=predict_text+\" \"+token.index_word.get(index)\n",
    "    print(predict_text)"
   ]
  },
  {
   "cell_type": "code",
   "execution_count": null,
   "id": "39e93c12",
   "metadata": {},
   "outputs": [],
   "source": [
    "#A man entered\n",
    "#Our visitor glanced"
   ]
  }
 ],
 "metadata": {
  "kernelspec": {
   "display_name": "Python 3",
   "language": "python",
   "name": "python3"
  },
  "language_info": {
   "codemirror_mode": {
    "name": "ipython",
    "version": 3
   },
   "file_extension": ".py",
   "mimetype": "text/x-python",
   "name": "python",
   "nbconvert_exporter": "python",
   "pygments_lexer": "ipython3",
   "version": "3.8.8"
  }
 },
 "nbformat": 4,
 "nbformat_minor": 5
}
